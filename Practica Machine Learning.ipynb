{
 "cells": [
  {
   "cell_type": "markdown",
   "metadata": {},
   "source": [
    "# Estimación del precio de una vivienda \n",
    "\n",
    "En este trabajo haremos un análisis exploratorio de la base de datos de viviendas [House Sales in King COunty, USA](https://www.kaggle.com/harlfoxem/housesalesprediction) y posteriormente aplicar técnicas de machine learning sobre ellos. \n",
    "\n",
    "Para cada vivienda, se tienen los siguientes atributos, características o features (o descriptores, o dimensiones...):\n",
    "\n",
    "| Atributo | descripción |\n",
    "| :- |:- |\n",
    "|*id*| identificador de la vivienda|\n",
    "| *date*| fecha\n",
    "| *price*| precio\n",
    "| *bedrooms*| número de habitaciones\n",
    "| *bathrooms*| número de baños/aseos\n",
    "| *sqtf_living*| superficie habitable (en pies al cuadrado)\n",
    "| *sqft_lot*| superficie de la parcela (en pies al cuadrado)\n",
    "| *floors*| número de plantas\n",
    "| *waterfront*| indica si la vivienda tiene acceso a un lago\n",
    "| *view*| tipo de vista (variable numérica)\n",
    "| *condition*| condición de la vivienda (variable númerica)\n",
    "| *grade*| medida de la calidad de la construcción (variable numérica)\n",
    "| *sqft_above*| superficie por encima del suelo (en pies al cuadrado)\n",
    "| *sqft_basement*| superficie del sótano (en pies al cuadrado)\n",
    "| *yr_built*| año de construcción de la vivienda\n",
    "| *yr_renovated*| año de renovación de la vivienda\n",
    "| *lat*| latitud de la parcela\n",
    "| *long*| longitud de la parcela\n",
    "| *sqft_living15*| superficie habitable promedio de los 15 vecinos más cercanos \t\t\t\t\n",
    "| *sqft_lot15*| superficie de la parcela promedio de los 15 vecinos más cercanos\n",
    "\n",
    "Vamos a utilizar **DataFrames** de [Pandas](http://pandas.pydata.org/). Como es sabido, Pandas es un módulo de python de código abierto para el análisis de datos, que proporciona estructuras de datos fáciles de utilizar. Como guía de referencia básica, puede consultarse la [cheat sheet](https://github.com/pandas-dev/pandas/blob/master/doc/cheatsheet/Pandas_Cheat_Sheet.pdf)"
   ]
  },
  {
   "cell_type": "markdown",
   "metadata": {},
   "source": [
    "Cargamos librerías necesarias "
   ]
  },
  {
   "cell_type": "code",
   "execution_count": 1,
   "metadata": {},
   "outputs": [],
   "source": [
    "import numpy  as np  \n",
    "import pandas as pd\n",
    "import seaborn as sns \n",
    "\n",
    "import matplotlib.pyplot as plt \n",
    "%matplotlib inline"
   ]
  },
  {
   "cell_type": "markdown",
   "metadata": {},
   "source": [
    "# 1. Análisis Descriptivo"
   ]
  },
  {
   "cell_type": "markdown",
   "metadata": {},
   "source": [
    "Leemos el dataset como un csv"
   ]
  },
  {
   "cell_type": "code",
   "execution_count": 2,
   "metadata": {},
   "outputs": [
    {
     "data": {
      "text/html": [
       "<div>\n",
       "<style scoped>\n",
       "    .dataframe tbody tr th:only-of-type {\n",
       "        vertical-align: middle;\n",
       "    }\n",
       "\n",
       "    .dataframe tbody tr th {\n",
       "        vertical-align: top;\n",
       "    }\n",
       "\n",
       "    .dataframe thead th {\n",
       "        text-align: right;\n",
       "    }\n",
       "</style>\n",
       "<table border=\"1\" class=\"dataframe\">\n",
       "  <thead>\n",
       "    <tr style=\"text-align: right;\">\n",
       "      <th></th>\n",
       "      <th>id</th>\n",
       "      <th>date</th>\n",
       "      <th>price</th>\n",
       "      <th>bedrooms</th>\n",
       "      <th>bathrooms</th>\n",
       "      <th>sqft_living</th>\n",
       "      <th>sqft_lot</th>\n",
       "      <th>floors</th>\n",
       "      <th>waterfront</th>\n",
       "      <th>view</th>\n",
       "      <th>...</th>\n",
       "      <th>grade</th>\n",
       "      <th>sqft_above</th>\n",
       "      <th>sqft_basement</th>\n",
       "      <th>yr_built</th>\n",
       "      <th>yr_renovated</th>\n",
       "      <th>zipcode</th>\n",
       "      <th>lat</th>\n",
       "      <th>long</th>\n",
       "      <th>sqft_living15</th>\n",
       "      <th>sqft_lot15</th>\n",
       "    </tr>\n",
       "  </thead>\n",
       "  <tbody>\n",
       "    <tr>\n",
       "      <th>0</th>\n",
       "      <td>7129300520</td>\n",
       "      <td>20141013T000000</td>\n",
       "      <td>221900.0</td>\n",
       "      <td>3</td>\n",
       "      <td>1.00</td>\n",
       "      <td>1180</td>\n",
       "      <td>5650</td>\n",
       "      <td>1.0</td>\n",
       "      <td>0</td>\n",
       "      <td>0</td>\n",
       "      <td>...</td>\n",
       "      <td>7</td>\n",
       "      <td>1180</td>\n",
       "      <td>0</td>\n",
       "      <td>1955</td>\n",
       "      <td>0</td>\n",
       "      <td>98178</td>\n",
       "      <td>47.5112</td>\n",
       "      <td>-122.257</td>\n",
       "      <td>1340</td>\n",
       "      <td>5650</td>\n",
       "    </tr>\n",
       "    <tr>\n",
       "      <th>1</th>\n",
       "      <td>6414100192</td>\n",
       "      <td>20141209T000000</td>\n",
       "      <td>538000.0</td>\n",
       "      <td>3</td>\n",
       "      <td>2.25</td>\n",
       "      <td>2570</td>\n",
       "      <td>7242</td>\n",
       "      <td>2.0</td>\n",
       "      <td>0</td>\n",
       "      <td>0</td>\n",
       "      <td>...</td>\n",
       "      <td>7</td>\n",
       "      <td>2170</td>\n",
       "      <td>400</td>\n",
       "      <td>1951</td>\n",
       "      <td>1991</td>\n",
       "      <td>98125</td>\n",
       "      <td>47.7210</td>\n",
       "      <td>-122.319</td>\n",
       "      <td>1690</td>\n",
       "      <td>7639</td>\n",
       "    </tr>\n",
       "    <tr>\n",
       "      <th>2</th>\n",
       "      <td>5631500400</td>\n",
       "      <td>20150225T000000</td>\n",
       "      <td>180000.0</td>\n",
       "      <td>2</td>\n",
       "      <td>1.00</td>\n",
       "      <td>770</td>\n",
       "      <td>10000</td>\n",
       "      <td>1.0</td>\n",
       "      <td>0</td>\n",
       "      <td>0</td>\n",
       "      <td>...</td>\n",
       "      <td>6</td>\n",
       "      <td>770</td>\n",
       "      <td>0</td>\n",
       "      <td>1933</td>\n",
       "      <td>0</td>\n",
       "      <td>98028</td>\n",
       "      <td>47.7379</td>\n",
       "      <td>-122.233</td>\n",
       "      <td>2720</td>\n",
       "      <td>8062</td>\n",
       "    </tr>\n",
       "    <tr>\n",
       "      <th>3</th>\n",
       "      <td>2487200875</td>\n",
       "      <td>20141209T000000</td>\n",
       "      <td>604000.0</td>\n",
       "      <td>4</td>\n",
       "      <td>3.00</td>\n",
       "      <td>1960</td>\n",
       "      <td>5000</td>\n",
       "      <td>1.0</td>\n",
       "      <td>0</td>\n",
       "      <td>0</td>\n",
       "      <td>...</td>\n",
       "      <td>7</td>\n",
       "      <td>1050</td>\n",
       "      <td>910</td>\n",
       "      <td>1965</td>\n",
       "      <td>0</td>\n",
       "      <td>98136</td>\n",
       "      <td>47.5208</td>\n",
       "      <td>-122.393</td>\n",
       "      <td>1360</td>\n",
       "      <td>5000</td>\n",
       "    </tr>\n",
       "    <tr>\n",
       "      <th>4</th>\n",
       "      <td>1954400510</td>\n",
       "      <td>20150218T000000</td>\n",
       "      <td>510000.0</td>\n",
       "      <td>3</td>\n",
       "      <td>2.00</td>\n",
       "      <td>1680</td>\n",
       "      <td>8080</td>\n",
       "      <td>1.0</td>\n",
       "      <td>0</td>\n",
       "      <td>0</td>\n",
       "      <td>...</td>\n",
       "      <td>8</td>\n",
       "      <td>1680</td>\n",
       "      <td>0</td>\n",
       "      <td>1987</td>\n",
       "      <td>0</td>\n",
       "      <td>98074</td>\n",
       "      <td>47.6168</td>\n",
       "      <td>-122.045</td>\n",
       "      <td>1800</td>\n",
       "      <td>7503</td>\n",
       "    </tr>\n",
       "  </tbody>\n",
       "</table>\n",
       "<p>5 rows × 21 columns</p>\n",
       "</div>"
      ],
      "text/plain": [
       "           id             date     price  bedrooms  bathrooms  sqft_living  \\\n",
       "0  7129300520  20141013T000000  221900.0         3       1.00         1180   \n",
       "1  6414100192  20141209T000000  538000.0         3       2.25         2570   \n",
       "2  5631500400  20150225T000000  180000.0         2       1.00          770   \n",
       "3  2487200875  20141209T000000  604000.0         4       3.00         1960   \n",
       "4  1954400510  20150218T000000  510000.0         3       2.00         1680   \n",
       "\n",
       "   sqft_lot  floors  waterfront  view  ...  grade  sqft_above  sqft_basement  \\\n",
       "0      5650     1.0           0     0  ...      7        1180              0   \n",
       "1      7242     2.0           0     0  ...      7        2170            400   \n",
       "2     10000     1.0           0     0  ...      6         770              0   \n",
       "3      5000     1.0           0     0  ...      7        1050            910   \n",
       "4      8080     1.0           0     0  ...      8        1680              0   \n",
       "\n",
       "   yr_built  yr_renovated  zipcode      lat     long  sqft_living15  \\\n",
       "0      1955             0    98178  47.5112 -122.257           1340   \n",
       "1      1951          1991    98125  47.7210 -122.319           1690   \n",
       "2      1933             0    98028  47.7379 -122.233           2720   \n",
       "3      1965             0    98136  47.5208 -122.393           1360   \n",
       "4      1987             0    98074  47.6168 -122.045           1800   \n",
       "\n",
       "   sqft_lot15  \n",
       "0        5650  \n",
       "1        7639  \n",
       "2        8062  \n",
       "3        5000  \n",
       "4        7503  \n",
       "\n",
       "[5 rows x 21 columns]"
      ]
     },
     "execution_count": 2,
     "metadata": {},
     "output_type": "execute_result"
    }
   ],
   "source": [
    "house_data = pd.read_csv(\"kc_house_data.csv\") \n",
    "house_data.head()      "
   ]
  },
  {
   "cell_type": "markdown",
   "metadata": {},
   "source": [
    "## Cantidad de valores faltantes"
   ]
  },
  {
   "cell_type": "markdown",
   "metadata": {},
   "source": [
    "En primer lugar estudiaremos la existencia de valores faltantes para más adelante imputarlos con la media en caso de sean variables cuantitativas o con la moda en caso de que sean cualitativas."
   ]
  },
  {
   "cell_type": "code",
   "execution_count": 3,
   "metadata": {
    "scrolled": true
   },
   "outputs": [
    {
     "data": {
      "text/plain": [
       "id               0\n",
       "date             0\n",
       "price            0\n",
       "bedrooms         0\n",
       "bathrooms        0\n",
       "sqft_living      0\n",
       "sqft_lot         0\n",
       "floors           0\n",
       "waterfront       0\n",
       "view             0\n",
       "condition        0\n",
       "grade            0\n",
       "sqft_above       0\n",
       "sqft_basement    0\n",
       "yr_built         0\n",
       "yr_renovated     0\n",
       "zipcode          0\n",
       "lat              0\n",
       "long             0\n",
       "sqft_living15    0\n",
       "sqft_lot15       0\n",
       "dtype: int64"
      ]
     },
     "execution_count": 3,
     "metadata": {},
     "output_type": "execute_result"
    }
   ],
   "source": [
    "house_data.isna().sum()"
   ]
  },
  {
   "cell_type": "markdown",
   "metadata": {},
   "source": [
    "Podemos observar que **ninguna de las variables tiene valores faltantes** por tanto no será necesario realizar ningún tratamiento."
   ]
  },
  {
   "cell_type": "markdown",
   "metadata": {},
   "source": [
    "## Tipo de variables"
   ]
  },
  {
   "cell_type": "markdown",
   "metadata": {},
   "source": [
    "Para poder ver el tipo de las variables del conjunto de datos hacemos uso del comando `dtypes`"
   ]
  },
  {
   "cell_type": "code",
   "execution_count": 4,
   "metadata": {},
   "outputs": [
    {
     "data": {
      "text/plain": [
       "id                 int64\n",
       "date              object\n",
       "price            float64\n",
       "bedrooms           int64\n",
       "bathrooms        float64\n",
       "sqft_living        int64\n",
       "sqft_lot           int64\n",
       "floors           float64\n",
       "waterfront         int64\n",
       "view               int64\n",
       "condition          int64\n",
       "grade              int64\n",
       "sqft_above         int64\n",
       "sqft_basement      int64\n",
       "yr_built           int64\n",
       "yr_renovated       int64\n",
       "zipcode            int64\n",
       "lat              float64\n",
       "long             float64\n",
       "sqft_living15      int64\n",
       "sqft_lot15         int64\n",
       "dtype: object"
      ]
     },
     "execution_count": 4,
     "metadata": {},
     "output_type": "execute_result"
    }
   ],
   "source": [
    "house_data.dtypes"
   ]
  },
  {
   "cell_type": "markdown",
   "metadata": {},
   "source": [
    "Vemos que todas las variables son de tipo cuantitativo, donde algunas serán discretas y otras continuas, la única variable categórica sería `id` la cual seguramente acabemos eliminando ya que no nos aporta información relevate."
   ]
  },
  {
   "cell_type": "markdown",
   "metadata": {},
   "source": [
    "## Distribución de sus valores"
   ]
  },
  {
   "cell_type": "markdown",
   "metadata": {},
   "source": [
    "Para ver cómo se distribuyen los precios utilizaremos `value_counts()` y los representaremos en un `histograma`. Al haber tantos precios distintos únicamente representaremos los 40 primeros precios más altos para así ver gráficamente su distribución. "
   ]
  },
  {
   "cell_type": "code",
   "execution_count": 5,
   "metadata": {},
   "outputs": [
    {
     "data": {
      "text/plain": [
       "450000.0    172\n",
       "350000.0    172\n",
       "550000.0    159\n",
       "500000.0    152\n",
       "425000.0    150\n",
       "           ... \n",
       "641500.0      1\n",
       "575950.0      1\n",
       "674250.0      1\n",
       "608700.0      1\n",
       "884744.0      1\n",
       "Name: price, Length: 4028, dtype: int64"
      ]
     },
     "execution_count": 5,
     "metadata": {},
     "output_type": "execute_result"
    }
   ],
   "source": [
    "house_data['price'].value_counts()"
   ]
  },
  {
   "cell_type": "code",
   "execution_count": 6,
   "metadata": {},
   "outputs": [
    {
     "data": {
      "image/png": "[encoded data removed]",
      "text/plain": [
       "<Figure size 720x360 with 1 Axes>"
      ]
     },
     "metadata": {
      "needs_background": "light"
     },
     "output_type": "display_data"
    }
   ],
   "source": [
    "house_data['price'].value_counts().nlargest(40).plot(kind='bar', figsize=(10,5))\n",
    "plt.title(\"Distribución de los valores del precio\")\n",
    "plt.ylabel('Cantidad de viviendas')\n",
    "plt.xlabel('Precio');"
   ]
  },
  {
   "cell_type": "markdown",
   "metadata": {},
   "source": [
    "## Matriz de correlaciones"
   ]
  },
  {
   "cell_type": "markdown",
   "metadata": {},
   "source": [
    "Antes de hacer la matriz de correlaciones recordamos que todas las variables son de tipo cuantitativo, así que no tendremos que codificar ninguna de ellas. Por otro lado, los atributos `id` y `date` no aportan información, por tanto las eliminamos."
   ]
  },
  {
   "cell_type": "code",
   "execution_count": 7,
   "metadata": {},
   "outputs": [
    {
     "data": {
      "text/html": [
       "<div>\n",
       "<style scoped>\n",
       "    .dataframe tbody tr th:only-of-type {\n",
       "        vertical-align: middle;\n",
       "    }\n",
       "\n",
       "    .dataframe tbody tr th {\n",
       "        vertical-align: top;\n",
       "    }\n",
       "\n",
       "    .dataframe thead th {\n",
       "        text-align: right;\n",
       "    }\n",
       "</style>\n",
       "<table border=\"1\" class=\"dataframe\">\n",
       "  <thead>\n",
       "    <tr style=\"text-align: right;\">\n",
       "      <th></th>\n",
       "      <th>price</th>\n",
       "      <th>bedrooms</th>\n",
       "      <th>bathrooms</th>\n",
       "      <th>sqft_living</th>\n",
       "      <th>sqft_lot</th>\n",
       "      <th>floors</th>\n",
       "      <th>waterfront</th>\n",
       "      <th>view</th>\n",
       "      <th>condition</th>\n",
       "      <th>grade</th>\n",
       "      <th>sqft_above</th>\n",
       "      <th>sqft_basement</th>\n",
       "      <th>yr_built</th>\n",
       "      <th>yr_renovated</th>\n",
       "      <th>zipcode</th>\n",
       "      <th>lat</th>\n",
       "      <th>long</th>\n",
       "      <th>sqft_living15</th>\n",
       "      <th>sqft_lot15</th>\n",
       "    </tr>\n",
       "  </thead>\n",
       "  <tbody>\n",
       "    <tr>\n",
       "      <th>0</th>\n",
       "      <td>221900.0</td>\n",
       "      <td>3</td>\n",
       "      <td>1.00</td>\n",
       "      <td>1180</td>\n",
       "      <td>5650</td>\n",
       "      <td>1.0</td>\n",
       "      <td>0</td>\n",
       "      <td>0</td>\n",
       "      <td>3</td>\n",
       "      <td>7</td>\n",
       "      <td>1180</td>\n",
       "      <td>0</td>\n",
       "      <td>1955</td>\n",
       "      <td>0</td>\n",
       "      <td>98178</td>\n",
       "      <td>47.5112</td>\n",
       "      <td>-122.257</td>\n",
       "      <td>1340</td>\n",
       "      <td>5650</td>\n",
       "    </tr>\n",
       "    <tr>\n",
       "      <th>1</th>\n",
       "      <td>538000.0</td>\n",
       "      <td>3</td>\n",
       "      <td>2.25</td>\n",
       "      <td>2570</td>\n",
       "      <td>7242</td>\n",
       "      <td>2.0</td>\n",
       "      <td>0</td>\n",
       "      <td>0</td>\n",
       "      <td>3</td>\n",
       "      <td>7</td>\n",
       "      <td>2170</td>\n",
       "      <td>400</td>\n",
       "      <td>1951</td>\n",
       "      <td>1991</td>\n",
       "      <td>98125</td>\n",
       "      <td>47.7210</td>\n",
       "      <td>-122.319</td>\n",
       "      <td>1690</td>\n",
       "      <td>7639</td>\n",
       "    </tr>\n",
       "    <tr>\n",
       "      <th>2</th>\n",
       "      <td>180000.0</td>\n",
       "      <td>2</td>\n",
       "      <td>1.00</td>\n",
       "      <td>770</td>\n",
       "      <td>10000</td>\n",
       "      <td>1.0</td>\n",
       "      <td>0</td>\n",
       "      <td>0</td>\n",
       "      <td>3</td>\n",
       "      <td>6</td>\n",
       "      <td>770</td>\n",
       "      <td>0</td>\n",
       "      <td>1933</td>\n",
       "      <td>0</td>\n",
       "      <td>98028</td>\n",
       "      <td>47.7379</td>\n",
       "      <td>-122.233</td>\n",
       "      <td>2720</td>\n",
       "      <td>8062</td>\n",
       "    </tr>\n",
       "    <tr>\n",
       "      <th>3</th>\n",
       "      <td>604000.0</td>\n",
       "      <td>4</td>\n",
       "      <td>3.00</td>\n",
       "      <td>1960</td>\n",
       "      <td>5000</td>\n",
       "      <td>1.0</td>\n",
       "      <td>0</td>\n",
       "      <td>0</td>\n",
       "      <td>5</td>\n",
       "      <td>7</td>\n",
       "      <td>1050</td>\n",
       "      <td>910</td>\n",
       "      <td>1965</td>\n",
       "      <td>0</td>\n",
       "      <td>98136</td>\n",
       "      <td>47.5208</td>\n",
       "      <td>-122.393</td>\n",
       "      <td>1360</td>\n",
       "      <td>5000</td>\n",
       "    </tr>\n",
       "    <tr>\n",
       "      <th>4</th>\n",
       "      <td>510000.0</td>\n",
       "      <td>3</td>\n",
       "      <td>2.00</td>\n",
       "      <td>1680</td>\n",
       "      <td>8080</td>\n",
       "      <td>1.0</td>\n",
       "      <td>0</td>\n",
       "      <td>0</td>\n",
       "      <td>3</td>\n",
       "      <td>8</td>\n",
       "      <td>1680</td>\n",
       "      <td>0</td>\n",
       "      <td>1987</td>\n",
       "      <td>0</td>\n",
       "      <td>98074</td>\n",
       "      <td>47.6168</td>\n",
       "      <td>-122.045</td>\n",
       "      <td>1800</td>\n",
       "      <td>7503</td>\n",
       "    </tr>\n",
       "  </tbody>\n",
       "</table>\n",
       "</div>"
      ],
      "text/plain": [
       "      price  bedrooms  bathrooms  sqft_living  sqft_lot  floors  waterfront  \\\n",
       "0  221900.0         3       1.00         1180      5650     1.0           0   \n",
       "1  538000.0         3       2.25         2570      7242     2.0           0   \n",
       "2  180000.0         2       1.00          770     10000     1.0           0   \n",
       "3  604000.0         4       3.00         1960      5000     1.0           0   \n",
       "4  510000.0         3       2.00         1680      8080     1.0           0   \n",
       "\n",
       "   view  condition  grade  sqft_above  sqft_basement  yr_built  yr_renovated  \\\n",
       "0     0          3      7        1180              0      1955             0   \n",
       "1     0          3      7        2170            400      1951          1991   \n",
       "2     0          3      6         770              0      1933             0   \n",
       "3     0          5      7        1050            910      1965             0   \n",
       "4     0          3      8        1680              0      1987             0   \n",
       "\n",
       "   zipcode      lat     long  sqft_living15  sqft_lot15  \n",
       "0    98178  47.5112 -122.257           1340        5650  \n",
       "1    98125  47.7210 -122.319           1690        7639  \n",
       "2    98028  47.7379 -122.233           2720        8062  \n",
       "3    98136  47.5208 -122.393           1360        5000  \n",
       "4    98074  47.6168 -122.045           1800        7503  "
      ]
     },
     "execution_count": 7,
     "metadata": {},
     "output_type": "execute_result"
    }
   ],
   "source": [
    "house_data = house_data.drop(['id','date'], axis=1)\n",
    "house_data.head()"
   ]
  },
  {
   "cell_type": "markdown",
   "metadata": {},
   "source": [
    "Además será necesario transformar las variables que se encuentran en la unidad de medida 'pies' a 'metros cuadrados' para así tener una mejor referencia de las dimensiones."
   ]
  },
  {
   "cell_type": "code",
   "execution_count": 8,
   "metadata": {},
   "outputs": [],
   "source": [
    "feetFeatures = ['sqft_living','sqft_lot','sqft_above','sqft_basement','sqft_living15','sqft_lot15']\n",
    "house_data[feetFeatures] = house_data[feetFeatures].apply(lambda x: x * 0.3048 * 0.3048)\n",
    "\n",
    "house_data.columns = ['price','bedrooms','bathrooms','sqm_living','sqm_lot','floors','waterfront','view','condition',\n",
    "                      'grade','sqm_above','sqm_basement','yr_built','yr_renovated','zip_code','lat','long',\n",
    "                      'sqm_living15','sqm_lot15']"
   ]
  },
  {
   "cell_type": "markdown",
   "metadata": {},
   "source": [
    "Visualizamos si la conversión se ha hecho correctamente:"
   ]
  },
  {
   "cell_type": "code",
   "execution_count": 9,
   "metadata": {},
   "outputs": [
    {
     "data": {
      "text/html": [
       "<div>\n",
       "<style scoped>\n",
       "    .dataframe tbody tr th:only-of-type {\n",
       "        vertical-align: middle;\n",
       "    }\n",
       "\n",
       "    .dataframe tbody tr th {\n",
       "        vertical-align: top;\n",
       "    }\n",
       "\n",
       "    .dataframe thead th {\n",
       "        text-align: right;\n",
       "    }\n",
       "</style>\n",
       "<table border=\"1\" class=\"dataframe\">\n",
       "  <thead>\n",
       "    <tr style=\"text-align: right;\">\n",
       "      <th></th>\n",
       "      <th>price</th>\n",
       "      <th>bedrooms</th>\n",
       "      <th>bathrooms</th>\n",
       "      <th>sqm_living</th>\n",
       "      <th>sqm_lot</th>\n",
       "      <th>floors</th>\n",
       "      <th>waterfront</th>\n",
       "      <th>view</th>\n",
       "      <th>condition</th>\n",
       "      <th>grade</th>\n",
       "      <th>sqm_above</th>\n",
       "      <th>sqm_basement</th>\n",
       "      <th>yr_built</th>\n",
       "      <th>yr_renovated</th>\n",
       "      <th>zip_code</th>\n",
       "      <th>lat</th>\n",
       "      <th>long</th>\n",
       "      <th>sqm_living15</th>\n",
       "      <th>sqm_lot15</th>\n",
       "    </tr>\n",
       "  </thead>\n",
       "  <tbody>\n",
       "    <tr>\n",
       "      <th>0</th>\n",
       "      <td>221900.0</td>\n",
       "      <td>3</td>\n",
       "      <td>1.00</td>\n",
       "      <td>109.625587</td>\n",
       "      <td>524.902176</td>\n",
       "      <td>1.0</td>\n",
       "      <td>0</td>\n",
       "      <td>0</td>\n",
       "      <td>3</td>\n",
       "      <td>7</td>\n",
       "      <td>109.625587</td>\n",
       "      <td>0.000000</td>\n",
       "      <td>1955</td>\n",
       "      <td>0</td>\n",
       "      <td>98178</td>\n",
       "      <td>47.5112</td>\n",
       "      <td>-122.257</td>\n",
       "      <td>124.490074</td>\n",
       "      <td>524.902176</td>\n",
       "    </tr>\n",
       "    <tr>\n",
       "      <th>1</th>\n",
       "      <td>538000.0</td>\n",
       "      <td>3</td>\n",
       "      <td>2.25</td>\n",
       "      <td>238.760813</td>\n",
       "      <td>672.803816</td>\n",
       "      <td>2.0</td>\n",
       "      <td>0</td>\n",
       "      <td>0</td>\n",
       "      <td>3</td>\n",
       "      <td>7</td>\n",
       "      <td>201.599597</td>\n",
       "      <td>37.161216</td>\n",
       "      <td>1951</td>\n",
       "      <td>1991</td>\n",
       "      <td>98125</td>\n",
       "      <td>47.7210</td>\n",
       "      <td>-122.319</td>\n",
       "      <td>157.006138</td>\n",
       "      <td>709.686323</td>\n",
       "    </tr>\n",
       "    <tr>\n",
       "      <th>2</th>\n",
       "      <td>180000.0</td>\n",
       "      <td>2</td>\n",
       "      <td>1.00</td>\n",
       "      <td>71.535341</td>\n",
       "      <td>929.030400</td>\n",
       "      <td>1.0</td>\n",
       "      <td>0</td>\n",
       "      <td>0</td>\n",
       "      <td>3</td>\n",
       "      <td>6</td>\n",
       "      <td>71.535341</td>\n",
       "      <td>0.000000</td>\n",
       "      <td>1933</td>\n",
       "      <td>0</td>\n",
       "      <td>98028</td>\n",
       "      <td>47.7379</td>\n",
       "      <td>-122.233</td>\n",
       "      <td>252.696269</td>\n",
       "      <td>748.984308</td>\n",
       "    </tr>\n",
       "    <tr>\n",
       "      <th>3</th>\n",
       "      <td>604000.0</td>\n",
       "      <td>4</td>\n",
       "      <td>3.00</td>\n",
       "      <td>182.089958</td>\n",
       "      <td>464.515200</td>\n",
       "      <td>1.0</td>\n",
       "      <td>0</td>\n",
       "      <td>0</td>\n",
       "      <td>5</td>\n",
       "      <td>7</td>\n",
       "      <td>97.548192</td>\n",
       "      <td>84.541766</td>\n",
       "      <td>1965</td>\n",
       "      <td>0</td>\n",
       "      <td>98136</td>\n",
       "      <td>47.5208</td>\n",
       "      <td>-122.393</td>\n",
       "      <td>126.348134</td>\n",
       "      <td>464.515200</td>\n",
       "    </tr>\n",
       "    <tr>\n",
       "      <th>4</th>\n",
       "      <td>510000.0</td>\n",
       "      <td>3</td>\n",
       "      <td>2.00</td>\n",
       "      <td>156.077107</td>\n",
       "      <td>750.656563</td>\n",
       "      <td>1.0</td>\n",
       "      <td>0</td>\n",
       "      <td>0</td>\n",
       "      <td>3</td>\n",
       "      <td>8</td>\n",
       "      <td>156.077107</td>\n",
       "      <td>0.000000</td>\n",
       "      <td>1987</td>\n",
       "      <td>0</td>\n",
       "      <td>98074</td>\n",
       "      <td>47.6168</td>\n",
       "      <td>-122.045</td>\n",
       "      <td>167.225472</td>\n",
       "      <td>697.051509</td>\n",
       "    </tr>\n",
       "  </tbody>\n",
       "</table>\n",
       "</div>"
      ],
      "text/plain": [
       "      price  bedrooms  bathrooms  sqm_living     sqm_lot  floors  waterfront  \\\n",
       "0  221900.0         3       1.00  109.625587  524.902176     1.0           0   \n",
       "1  538000.0         3       2.25  238.760813  672.803816     2.0           0   \n",
       "2  180000.0         2       1.00   71.535341  929.030400     1.0           0   \n",
       "3  604000.0         4       3.00  182.089958  464.515200     1.0           0   \n",
       "4  510000.0         3       2.00  156.077107  750.656563     1.0           0   \n",
       "\n",
       "   view  condition  grade   sqm_above  sqm_basement  yr_built  yr_renovated  \\\n",
       "0     0          3      7  109.625587      0.000000      1955             0   \n",
       "1     0          3      7  201.599597     37.161216      1951          1991   \n",
       "2     0          3      6   71.535341      0.000000      1933             0   \n",
       "3     0          5      7   97.548192     84.541766      1965             0   \n",
       "4     0          3      8  156.077107      0.000000      1987             0   \n",
       "\n",
       "   zip_code      lat     long  sqm_living15   sqm_lot15  \n",
       "0     98178  47.5112 -122.257    124.490074  524.902176  \n",
       "1     98125  47.7210 -122.319    157.006138  709.686323  \n",
       "2     98028  47.7379 -122.233    252.696269  748.984308  \n",
       "3     98136  47.5208 -122.393    126.348134  464.515200  \n",
       "4     98074  47.6168 -122.045    167.225472  697.051509  "
      ]
     },
     "execution_count": 9,
     "metadata": {},
     "output_type": "execute_result"
    }
   ],
   "source": [
    "house_data.head(5)"
   ]
  },
  {
   "cell_type": "markdown",
   "metadata": {},
   "source": [
    "Para crear la matriz de correlaciones nos quedaremos con las variables continuas, descartando así las discretas como podrían ser: `waterfornt` o `view`"
   ]
  },
  {
   "cell_type": "code",
   "execution_count": 10,
   "metadata": {},
   "outputs": [],
   "source": [
    "CM=house_data.iloc[:,[0,3,4,10,11,15,16,17,18]]"
   ]
  },
  {
   "cell_type": "code",
   "execution_count": 11,
   "metadata": {},
   "outputs": [
    {
     "data": {
      "text/html": [
       "<div>\n",
       "<style scoped>\n",
       "    .dataframe tbody tr th:only-of-type {\n",
       "        vertical-align: middle;\n",
       "    }\n",
       "\n",
       "    .dataframe tbody tr th {\n",
       "        vertical-align: top;\n",
       "    }\n",
       "\n",
       "    .dataframe thead th {\n",
       "        text-align: right;\n",
       "    }\n",
       "</style>\n",
       "<table border=\"1\" class=\"dataframe\">\n",
       "  <thead>\n",
       "    <tr style=\"text-align: right;\">\n",
       "      <th></th>\n",
       "      <th>price</th>\n",
       "      <th>sqm_living</th>\n",
       "      <th>sqm_lot</th>\n",
       "      <th>sqm_above</th>\n",
       "      <th>sqm_basement</th>\n",
       "      <th>lat</th>\n",
       "      <th>long</th>\n",
       "      <th>sqm_living15</th>\n",
       "      <th>sqm_lot15</th>\n",
       "    </tr>\n",
       "  </thead>\n",
       "  <tbody>\n",
       "    <tr>\n",
       "      <th>price</th>\n",
       "      <td>1.000000</td>\n",
       "      <td>0.702035</td>\n",
       "      <td>0.089661</td>\n",
       "      <td>0.605567</td>\n",
       "      <td>0.323816</td>\n",
       "      <td>0.307003</td>\n",
       "      <td>0.021626</td>\n",
       "      <td>0.585379</td>\n",
       "      <td>0.082447</td>\n",
       "    </tr>\n",
       "    <tr>\n",
       "      <th>sqm_living</th>\n",
       "      <td>0.702035</td>\n",
       "      <td>1.000000</td>\n",
       "      <td>0.172826</td>\n",
       "      <td>0.876597</td>\n",
       "      <td>0.435043</td>\n",
       "      <td>0.052529</td>\n",
       "      <td>0.240223</td>\n",
       "      <td>0.756420</td>\n",
       "      <td>0.183286</td>\n",
       "    </tr>\n",
       "    <tr>\n",
       "      <th>sqm_lot</th>\n",
       "      <td>0.089661</td>\n",
       "      <td>0.172826</td>\n",
       "      <td>1.000000</td>\n",
       "      <td>0.183512</td>\n",
       "      <td>0.015286</td>\n",
       "      <td>-0.085683</td>\n",
       "      <td>0.229521</td>\n",
       "      <td>0.144608</td>\n",
       "      <td>0.718557</td>\n",
       "    </tr>\n",
       "    <tr>\n",
       "      <th>sqm_above</th>\n",
       "      <td>0.605567</td>\n",
       "      <td>0.876597</td>\n",
       "      <td>0.183512</td>\n",
       "      <td>1.000000</td>\n",
       "      <td>-0.051943</td>\n",
       "      <td>-0.000816</td>\n",
       "      <td>0.343803</td>\n",
       "      <td>0.731870</td>\n",
       "      <td>0.194050</td>\n",
       "    </tr>\n",
       "    <tr>\n",
       "      <th>sqm_basement</th>\n",
       "      <td>0.323816</td>\n",
       "      <td>0.435043</td>\n",
       "      <td>0.015286</td>\n",
       "      <td>-0.051943</td>\n",
       "      <td>1.000000</td>\n",
       "      <td>0.110538</td>\n",
       "      <td>-0.144765</td>\n",
       "      <td>0.200355</td>\n",
       "      <td>0.017276</td>\n",
       "    </tr>\n",
       "    <tr>\n",
       "      <th>lat</th>\n",
       "      <td>0.307003</td>\n",
       "      <td>0.052529</td>\n",
       "      <td>-0.085683</td>\n",
       "      <td>-0.000816</td>\n",
       "      <td>0.110538</td>\n",
       "      <td>1.000000</td>\n",
       "      <td>-0.135512</td>\n",
       "      <td>0.048858</td>\n",
       "      <td>-0.086419</td>\n",
       "    </tr>\n",
       "    <tr>\n",
       "      <th>long</th>\n",
       "      <td>0.021626</td>\n",
       "      <td>0.240223</td>\n",
       "      <td>0.229521</td>\n",
       "      <td>0.343803</td>\n",
       "      <td>-0.144765</td>\n",
       "      <td>-0.135512</td>\n",
       "      <td>1.000000</td>\n",
       "      <td>0.334605</td>\n",
       "      <td>0.254451</td>\n",
       "    </tr>\n",
       "    <tr>\n",
       "      <th>sqm_living15</th>\n",
       "      <td>0.585379</td>\n",
       "      <td>0.756420</td>\n",
       "      <td>0.144608</td>\n",
       "      <td>0.731870</td>\n",
       "      <td>0.200355</td>\n",
       "      <td>0.048858</td>\n",
       "      <td>0.334605</td>\n",
       "      <td>1.000000</td>\n",
       "      <td>0.183192</td>\n",
       "    </tr>\n",
       "    <tr>\n",
       "      <th>sqm_lot15</th>\n",
       "      <td>0.082447</td>\n",
       "      <td>0.183286</td>\n",
       "      <td>0.718557</td>\n",
       "      <td>0.194050</td>\n",
       "      <td>0.017276</td>\n",
       "      <td>-0.086419</td>\n",
       "      <td>0.254451</td>\n",
       "      <td>0.183192</td>\n",
       "      <td>1.000000</td>\n",
       "    </tr>\n",
       "  </tbody>\n",
       "</table>\n",
       "</div>"
      ],
      "text/plain": [
       "                 price  sqm_living   sqm_lot  sqm_above  sqm_basement  \\\n",
       "price         1.000000    0.702035  0.089661   0.605567      0.323816   \n",
       "sqm_living    0.702035    1.000000  0.172826   0.876597      0.435043   \n",
       "sqm_lot       0.089661    0.172826  1.000000   0.183512      0.015286   \n",
       "sqm_above     0.605567    0.876597  0.183512   1.000000     -0.051943   \n",
       "sqm_basement  0.323816    0.435043  0.015286  -0.051943      1.000000   \n",
       "lat           0.307003    0.052529 -0.085683  -0.000816      0.110538   \n",
       "long          0.021626    0.240223  0.229521   0.343803     -0.144765   \n",
       "sqm_living15  0.585379    0.756420  0.144608   0.731870      0.200355   \n",
       "sqm_lot15     0.082447    0.183286  0.718557   0.194050      0.017276   \n",
       "\n",
       "                   lat      long  sqm_living15  sqm_lot15  \n",
       "price         0.307003  0.021626      0.585379   0.082447  \n",
       "sqm_living    0.052529  0.240223      0.756420   0.183286  \n",
       "sqm_lot      -0.085683  0.229521      0.144608   0.718557  \n",
       "sqm_above    -0.000816  0.343803      0.731870   0.194050  \n",
       "sqm_basement  0.110538 -0.144765      0.200355   0.017276  \n",
       "lat           1.000000 -0.135512      0.048858  -0.086419  \n",
       "long         -0.135512  1.000000      0.334605   0.254451  \n",
       "sqm_living15  0.048858  0.334605      1.000000   0.183192  \n",
       "sqm_lot15    -0.086419  0.254451      0.183192   1.000000  "
      ]
     },
     "execution_count": 11,
     "metadata": {},
     "output_type": "execute_result"
    },
    {
     "data": {
      "text/plain": [
       "<Figure size 720x360 with 0 Axes>"
      ]
     },
     "metadata": {},
     "output_type": "display_data"
    }
   ],
   "source": [
    "plt.figure(figsize=(10,5))\n",
    "correlaciones= CM.corr()\n",
    "correlaciones"
   ]
  },
  {
   "cell_type": "markdown",
   "metadata": {},
   "source": [
    "Podemos ver como es lógico que los metros cuadrados de la vivienda en su totalidad (`sqm_living`) tengan una alta correlación con el precio (`price`)"
   ]
  },
  {
   "cell_type": "markdown",
   "metadata": {},
   "source": [
    "Observamos la matriz de correlaciones con un mapa de calor"
   ]
  },
  {
   "cell_type": "code",
   "execution_count": 12,
   "metadata": {},
   "outputs": [
    {
     "data": {
      "text/plain": [
       "<Figure size 720x360 with 0 Axes>"
      ]
     },
     "metadata": {},
     "output_type": "display_data"
    },
    {
     "data": {
      "image/png": "[encoded data removed]",
      "text/plain": [
       "<Figure size 936x720 with 2 Axes>"
      ]
     },
     "metadata": {},
     "output_type": "display_data"
    },
    {
     "data": {
      "text/plain": [
       "'Gráfico de correlación usando coeficiente de pearson'"
      ]
     },
     "execution_count": 12,
     "metadata": {},
     "output_type": "execute_result"
    }
   ],
   "source": [
    "plt.figure(figsize=(10,5))\n",
    "correlaciones= CM.corr()\n",
    "def get_corr_matrix(dataset = None, metodo='pearson', size_figure=[13,10]):\n",
    "    # Para obtener la correlación de Spearman, sólo cambiar el metodo por 'spearman'\n",
    "\n",
    "    if dataset is None:\n",
    "        print(u'\\nHace falta pasar argumentos a la función')\n",
    "        return 1\n",
    "    sns.set(style=\"white\")\n",
    "    # Compute the correlation matrix\n",
    "    corr = dataset.corr(method=metodo) \n",
    "    # Set self-correlation to zero to avoid distraction\n",
    "    for i in range(corr.shape[0]):\n",
    "        corr.iloc[i, i] = 0\n",
    "    # Set up the matplotlib figure\n",
    "    f, ax = plt.subplots(figsize=size_figure)\n",
    "    # Draw the heatmap with the mask and correct aspect ratio\n",
    "    sns.heatmap(corr, center=0,\n",
    "                square=True, linewidths=.5,  cmap ='viridis' ) #cbar_kws={\"shrink\": .5}\n",
    "    plt.show()\n",
    "    \n",
    "    return ('Gráfico de correlación usando coeficiente de' + ' ' + metodo)\n",
    "\n",
    "get_corr_matrix(CM,'pearson',[13,10])"
   ]
  },
  {
   "cell_type": "markdown",
   "metadata": {},
   "source": [
    "# 2. Tratamiento de missings y outliers"
   ]
  },
  {
   "cell_type": "markdown",
   "metadata": {},
   "source": [
    "### Missings"
   ]
  },
  {
   "cell_type": "code",
   "execution_count": 13,
   "metadata": {},
   "outputs": [
    {
     "data": {
      "text/plain": [
       "price           0\n",
       "bedrooms        0\n",
       "bathrooms       0\n",
       "sqm_living      0\n",
       "sqm_lot         0\n",
       "floors          0\n",
       "waterfront      0\n",
       "view            0\n",
       "condition       0\n",
       "grade           0\n",
       "sqm_above       0\n",
       "sqm_basement    0\n",
       "yr_built        0\n",
       "yr_renovated    0\n",
       "zip_code        0\n",
       "lat             0\n",
       "long            0\n",
       "sqm_living15    0\n",
       "sqm_lot15       0\n",
       "dtype: int64"
      ]
     },
     "execution_count": 13,
     "metadata": {},
     "output_type": "execute_result"
    }
   ],
   "source": [
    "house_data.isnull().sum()"
   ]
  },
  {
   "cell_type": "markdown",
   "metadata": {},
   "source": [
    "Como hemos visto previamente no es necesario imputar valores faltantes ya que este conjunto de datos no contienen ninguno."
   ]
  },
  {
   "cell_type": "markdown",
   "metadata": {},
   "source": [
    "### Outliers"
   ]
  },
  {
   "cell_type": "markdown",
   "metadata": {},
   "source": [
    "En primer lugar visualizaremos la longitud del conjunto de datos para así tener una referencia:"
   ]
  },
  {
   "cell_type": "code",
   "execution_count": 14,
   "metadata": {},
   "outputs": [
    {
     "data": {
      "text/plain": [
       "21613"
      ]
     },
     "execution_count": 14,
     "metadata": {},
     "output_type": "execute_result"
    }
   ],
   "source": [
    "len(house_data)"
   ]
  },
  {
   "cell_type": "markdown",
   "metadata": {},
   "source": [
    "Vamos a crear una función que nos elimine los outliers, pero de tal forma que vaya recorriendo las filas detectando la cantidad de outliers que tiene y si se considera que hay más de 4 eliminar directamente la observación.\n",
    "Por esta razón es importante visualizar la longitud del data set previamente para comparar cómo varía su dimesión una vez eliminados los outliers."
   ]
  },
  {
   "cell_type": "code",
   "execution_count": 15,
   "metadata": {},
   "outputs": [],
   "source": [
    "def filtrar_outlier_tukey(x):\n",
    "    q1 = np.percentile(x, 25)\n",
    "    q3 = np.percentile(x, 75)\n",
    "    iqr = q3 - q1 \n",
    "    print(\"[q1=%f, q3=%f, iqr=%f]\" % (q1, q3, iqr))\n",
    "    \n",
    "    floor = q1 - 1.5*iqr\n",
    "    ceiling = q3 + 1.5*iqr\n",
    "    print(\"[floor=%f, ceiling=%f]\" % (floor, ceiling))\n",
    "    \n",
    "    outlier_indices = list(x.index[(x < floor)|(x > ceiling)])\n",
    "    outlier_values = list(x[outlier_indices])\n",
    "\n",
    "    return outlier_indices, outlier_values"
   ]
  },
  {
   "cell_type": "code",
   "execution_count": 16,
   "metadata": {},
   "outputs": [
    {
     "name": "stdout",
     "output_type": "stream",
     "text": [
      "[q1=321950.000000, q3=645000.000000, iqr=323050.000000]\n",
      "[floor=-162625.000000, ceiling=1129575.000000]\n",
      "[q1=3.000000, q3=4.000000, iqr=1.000000]\n",
      "[floor=1.500000, ceiling=5.500000]\n",
      "[q1=1.750000, q3=2.500000, iqr=0.750000]\n",
      "[floor=0.625000, ceiling=3.625000]\n",
      "[q1=132.572638, q3=236.902752, iqr=104.330114]\n",
      "[floor=-23.922533, ceiling=393.397923]\n",
      "[q1=468.231322, q3=992.947692, iqr=524.716370]\n",
      "[floor=-318.843233, ceiling=1780.022246]\n",
      "[q1=1.000000, q3=2.000000, iqr=1.000000]\n",
      "[floor=-0.500000, ceiling=3.500000]\n",
      "[q1=0.000000, q3=0.000000, iqr=0.000000]\n",
      "[floor=0.000000, ceiling=0.000000]\n",
      "[q1=0.000000, q3=0.000000, iqr=0.000000]\n",
      "[floor=0.000000, ceiling=0.000000]\n",
      "[q1=3.000000, q3=4.000000, iqr=1.000000]\n",
      "[floor=1.500000, ceiling=5.500000]\n",
      "[q1=7.000000, q3=8.000000, iqr=1.000000]\n",
      "[floor=5.500000, ceiling=9.500000]\n",
      "[q1=110.554618, q3=205.315718, iqr=94.761101]\n",
      "[floor=-31.587034, ceiling=347.457370]\n",
      "[q1=0.000000, q3=52.025702, iqr=52.025702]\n",
      "[floor=-78.038554, ceiling=130.064256]\n",
      "[q1=1951.000000, q3=1997.000000, iqr=46.000000]\n",
      "[floor=1882.000000, ceiling=2066.000000]\n",
      "[q1=0.000000, q3=0.000000, iqr=0.000000]\n",
      "[floor=0.000000, ceiling=0.000000]\n",
      "[q1=98033.000000, q3=98118.000000, iqr=85.000000]\n",
      "[floor=97905.500000, ceiling=98245.500000]\n",
      "[q1=47.471000, q3=47.678000, iqr=0.207000]\n",
      "[floor=47.160500, ceiling=47.988500]\n",
      "[q1=-122.328000, q3=-122.125000, iqr=0.203000]\n",
      "[floor=-122.632500, ceiling=-121.820500]\n",
      "[q1=138.425530, q3=219.251174, iqr=80.825645]\n",
      "[floor=17.187062, ceiling=340.489642]\n",
      "[q1=473.805504, q3=936.741352, iqr=462.935848]\n",
      "[floor=-220.598268, ceiling=1631.145125]\n"
     ]
    },
    {
     "data": {
      "text/html": [
       "<div>\n",
       "<style scoped>\n",
       "    .dataframe tbody tr th:only-of-type {\n",
       "        vertical-align: middle;\n",
       "    }\n",
       "\n",
       "    .dataframe tbody tr th {\n",
       "        vertical-align: top;\n",
       "    }\n",
       "\n",
       "    .dataframe thead th {\n",
       "        text-align: right;\n",
       "    }\n",
       "</style>\n",
       "<table border=\"1\" class=\"dataframe\">\n",
       "  <thead>\n",
       "    <tr style=\"text-align: right;\">\n",
       "      <th></th>\n",
       "      <th>price</th>\n",
       "      <th>bedrooms</th>\n",
       "      <th>bathrooms</th>\n",
       "      <th>sqm_living</th>\n",
       "      <th>sqm_lot</th>\n",
       "      <th>floors</th>\n",
       "      <th>waterfront</th>\n",
       "      <th>view</th>\n",
       "      <th>condition</th>\n",
       "      <th>grade</th>\n",
       "      <th>sqm_above</th>\n",
       "      <th>sqm_basement</th>\n",
       "      <th>yr_built</th>\n",
       "      <th>yr_renovated</th>\n",
       "      <th>zip_code</th>\n",
       "      <th>lat</th>\n",
       "      <th>long</th>\n",
       "      <th>sqm_living15</th>\n",
       "      <th>sqm_lot15</th>\n",
       "    </tr>\n",
       "  </thead>\n",
       "  <tbody>\n",
       "    <tr>\n",
       "      <th>0</th>\n",
       "      <td>221900.0</td>\n",
       "      <td>3</td>\n",
       "      <td>1.00</td>\n",
       "      <td>109.625587</td>\n",
       "      <td>524.902176</td>\n",
       "      <td>1.0</td>\n",
       "      <td>0</td>\n",
       "      <td>0</td>\n",
       "      <td>3</td>\n",
       "      <td>7</td>\n",
       "      <td>109.625587</td>\n",
       "      <td>0.000000</td>\n",
       "      <td>1955</td>\n",
       "      <td>0</td>\n",
       "      <td>98178</td>\n",
       "      <td>47.5112</td>\n",
       "      <td>-122.257</td>\n",
       "      <td>124.490074</td>\n",
       "      <td>524.902176</td>\n",
       "    </tr>\n",
       "    <tr>\n",
       "      <th>1</th>\n",
       "      <td>538000.0</td>\n",
       "      <td>3</td>\n",
       "      <td>2.25</td>\n",
       "      <td>238.760813</td>\n",
       "      <td>672.803816</td>\n",
       "      <td>2.0</td>\n",
       "      <td>0</td>\n",
       "      <td>0</td>\n",
       "      <td>3</td>\n",
       "      <td>7</td>\n",
       "      <td>201.599597</td>\n",
       "      <td>37.161216</td>\n",
       "      <td>1951</td>\n",
       "      <td>1991</td>\n",
       "      <td>98125</td>\n",
       "      <td>47.7210</td>\n",
       "      <td>-122.319</td>\n",
       "      <td>157.006138</td>\n",
       "      <td>709.686323</td>\n",
       "    </tr>\n",
       "    <tr>\n",
       "      <th>2</th>\n",
       "      <td>180000.0</td>\n",
       "      <td>2</td>\n",
       "      <td>1.00</td>\n",
       "      <td>71.535341</td>\n",
       "      <td>929.030400</td>\n",
       "      <td>1.0</td>\n",
       "      <td>0</td>\n",
       "      <td>0</td>\n",
       "      <td>3</td>\n",
       "      <td>6</td>\n",
       "      <td>71.535341</td>\n",
       "      <td>0.000000</td>\n",
       "      <td>1933</td>\n",
       "      <td>0</td>\n",
       "      <td>98028</td>\n",
       "      <td>47.7379</td>\n",
       "      <td>-122.233</td>\n",
       "      <td>252.696269</td>\n",
       "      <td>748.984308</td>\n",
       "    </tr>\n",
       "    <tr>\n",
       "      <th>4</th>\n",
       "      <td>510000.0</td>\n",
       "      <td>3</td>\n",
       "      <td>2.00</td>\n",
       "      <td>156.077107</td>\n",
       "      <td>750.656563</td>\n",
       "      <td>1.0</td>\n",
       "      <td>0</td>\n",
       "      <td>0</td>\n",
       "      <td>3</td>\n",
       "      <td>8</td>\n",
       "      <td>156.077107</td>\n",
       "      <td>0.000000</td>\n",
       "      <td>1987</td>\n",
       "      <td>0</td>\n",
       "      <td>98074</td>\n",
       "      <td>47.6168</td>\n",
       "      <td>-122.045</td>\n",
       "      <td>167.225472</td>\n",
       "      <td>697.051509</td>\n",
       "    </tr>\n",
       "    <tr>\n",
       "      <th>6</th>\n",
       "      <td>257500.0</td>\n",
       "      <td>3</td>\n",
       "      <td>2.25</td>\n",
       "      <td>159.328714</td>\n",
       "      <td>633.505830</td>\n",
       "      <td>2.0</td>\n",
       "      <td>0</td>\n",
       "      <td>0</td>\n",
       "      <td>3</td>\n",
       "      <td>7</td>\n",
       "      <td>159.328714</td>\n",
       "      <td>0.000000</td>\n",
       "      <td>1995</td>\n",
       "      <td>0</td>\n",
       "      <td>98003</td>\n",
       "      <td>47.3097</td>\n",
       "      <td>-122.327</td>\n",
       "      <td>207.917004</td>\n",
       "      <td>633.505830</td>\n",
       "    </tr>\n",
       "    <tr>\n",
       "      <th>...</th>\n",
       "      <td>...</td>\n",
       "      <td>...</td>\n",
       "      <td>...</td>\n",
       "      <td>...</td>\n",
       "      <td>...</td>\n",
       "      <td>...</td>\n",
       "      <td>...</td>\n",
       "      <td>...</td>\n",
       "      <td>...</td>\n",
       "      <td>...</td>\n",
       "      <td>...</td>\n",
       "      <td>...</td>\n",
       "      <td>...</td>\n",
       "      <td>...</td>\n",
       "      <td>...</td>\n",
       "      <td>...</td>\n",
       "      <td>...</td>\n",
       "      <td>...</td>\n",
       "      <td>...</td>\n",
       "    </tr>\n",
       "    <tr>\n",
       "      <th>21608</th>\n",
       "      <td>360000.0</td>\n",
       "      <td>3</td>\n",
       "      <td>2.50</td>\n",
       "      <td>142.141651</td>\n",
       "      <td>105.073338</td>\n",
       "      <td>3.0</td>\n",
       "      <td>0</td>\n",
       "      <td>0</td>\n",
       "      <td>3</td>\n",
       "      <td>8</td>\n",
       "      <td>142.141651</td>\n",
       "      <td>0.000000</td>\n",
       "      <td>2009</td>\n",
       "      <td>0</td>\n",
       "      <td>98103</td>\n",
       "      <td>47.6993</td>\n",
       "      <td>-122.346</td>\n",
       "      <td>142.141651</td>\n",
       "      <td>140.190687</td>\n",
       "    </tr>\n",
       "    <tr>\n",
       "      <th>21609</th>\n",
       "      <td>400000.0</td>\n",
       "      <td>4</td>\n",
       "      <td>2.50</td>\n",
       "      <td>214.606022</td>\n",
       "      <td>540.045372</td>\n",
       "      <td>2.0</td>\n",
       "      <td>0</td>\n",
       "      <td>0</td>\n",
       "      <td>3</td>\n",
       "      <td>8</td>\n",
       "      <td>214.606022</td>\n",
       "      <td>0.000000</td>\n",
       "      <td>2014</td>\n",
       "      <td>0</td>\n",
       "      <td>98146</td>\n",
       "      <td>47.5107</td>\n",
       "      <td>-122.362</td>\n",
       "      <td>170.012563</td>\n",
       "      <td>668.901888</td>\n",
       "    </tr>\n",
       "    <tr>\n",
       "      <th>21610</th>\n",
       "      <td>402101.0</td>\n",
       "      <td>2</td>\n",
       "      <td>0.75</td>\n",
       "      <td>94.761101</td>\n",
       "      <td>125.419104</td>\n",
       "      <td>2.0</td>\n",
       "      <td>0</td>\n",
       "      <td>0</td>\n",
       "      <td>3</td>\n",
       "      <td>7</td>\n",
       "      <td>94.761101</td>\n",
       "      <td>0.000000</td>\n",
       "      <td>2009</td>\n",
       "      <td>0</td>\n",
       "      <td>98144</td>\n",
       "      <td>47.5944</td>\n",
       "      <td>-122.299</td>\n",
       "      <td>94.761101</td>\n",
       "      <td>186.456401</td>\n",
       "    </tr>\n",
       "    <tr>\n",
       "      <th>21611</th>\n",
       "      <td>400000.0</td>\n",
       "      <td>3</td>\n",
       "      <td>2.50</td>\n",
       "      <td>148.644864</td>\n",
       "      <td>221.852460</td>\n",
       "      <td>2.0</td>\n",
       "      <td>0</td>\n",
       "      <td>0</td>\n",
       "      <td>3</td>\n",
       "      <td>8</td>\n",
       "      <td>148.644864</td>\n",
       "      <td>0.000000</td>\n",
       "      <td>2004</td>\n",
       "      <td>0</td>\n",
       "      <td>98027</td>\n",
       "      <td>47.5345</td>\n",
       "      <td>-122.069</td>\n",
       "      <td>130.993286</td>\n",
       "      <td>119.566212</td>\n",
       "    </tr>\n",
       "    <tr>\n",
       "      <th>21612</th>\n",
       "      <td>325000.0</td>\n",
       "      <td>2</td>\n",
       "      <td>0.75</td>\n",
       "      <td>94.761101</td>\n",
       "      <td>99.963671</td>\n",
       "      <td>2.0</td>\n",
       "      <td>0</td>\n",
       "      <td>0</td>\n",
       "      <td>3</td>\n",
       "      <td>7</td>\n",
       "      <td>94.761101</td>\n",
       "      <td>0.000000</td>\n",
       "      <td>2008</td>\n",
       "      <td>0</td>\n",
       "      <td>98144</td>\n",
       "      <td>47.5941</td>\n",
       "      <td>-122.299</td>\n",
       "      <td>94.761101</td>\n",
       "      <td>126.069425</td>\n",
       "    </tr>\n",
       "  </tbody>\n",
       "</table>\n",
       "<p>21608 rows × 19 columns</p>\n",
       "</div>"
      ],
      "text/plain": [
       "          price  bedrooms  bathrooms  sqm_living     sqm_lot  floors  \\\n",
       "0      221900.0         3       1.00  109.625587  524.902176     1.0   \n",
       "1      538000.0         3       2.25  238.760813  672.803816     2.0   \n",
       "2      180000.0         2       1.00   71.535341  929.030400     1.0   \n",
       "4      510000.0         3       2.00  156.077107  750.656563     1.0   \n",
       "6      257500.0         3       2.25  159.328714  633.505830     2.0   \n",
       "...         ...       ...        ...         ...         ...     ...   \n",
       "21608  360000.0         3       2.50  142.141651  105.073338     3.0   \n",
       "21609  400000.0         4       2.50  214.606022  540.045372     2.0   \n",
       "21610  402101.0         2       0.75   94.761101  125.419104     2.0   \n",
       "21611  400000.0         3       2.50  148.644864  221.852460     2.0   \n",
       "21612  325000.0         2       0.75   94.761101   99.963671     2.0   \n",
       "\n",
       "       waterfront  view  condition  grade   sqm_above  sqm_basement  yr_built  \\\n",
       "0               0     0          3      7  109.625587      0.000000      1955   \n",
       "1               0     0          3      7  201.599597     37.161216      1951   \n",
       "2               0     0          3      6   71.535341      0.000000      1933   \n",
       "4               0     0          3      8  156.077107      0.000000      1987   \n",
       "6               0     0          3      7  159.328714      0.000000      1995   \n",
       "...           ...   ...        ...    ...         ...           ...       ...   \n",
       "21608           0     0          3      8  142.141651      0.000000      2009   \n",
       "21609           0     0          3      8  214.606022      0.000000      2014   \n",
       "21610           0     0          3      7   94.761101      0.000000      2009   \n",
       "21611           0     0          3      8  148.644864      0.000000      2004   \n",
       "21612           0     0          3      7   94.761101      0.000000      2008   \n",
       "\n",
       "       yr_renovated  zip_code      lat     long  sqm_living15   sqm_lot15  \n",
       "0                 0     98178  47.5112 -122.257    124.490074  524.902176  \n",
       "1              1991     98125  47.7210 -122.319    157.006138  709.686323  \n",
       "2                 0     98028  47.7379 -122.233    252.696269  748.984308  \n",
       "4                 0     98074  47.6168 -122.045    167.225472  697.051509  \n",
       "6                 0     98003  47.3097 -122.327    207.917004  633.505830  \n",
       "...             ...       ...      ...      ...           ...         ...  \n",
       "21608             0     98103  47.6993 -122.346    142.141651  140.190687  \n",
       "21609             0     98146  47.5107 -122.362    170.012563  668.901888  \n",
       "21610             0     98144  47.5944 -122.299     94.761101  186.456401  \n",
       "21611             0     98027  47.5345 -122.069    130.993286  119.566212  \n",
       "21612             0     98144  47.5941 -122.299     94.761101  126.069425  \n",
       "\n",
       "[21608 rows x 19 columns]"
      ]
     },
     "execution_count": 16,
     "metadata": {},
     "output_type": "execute_result"
    }
   ],
   "source": [
    "l=list(house_data.columns.values)\n",
    "for i in range(19):\n",
    "    outlier_indices, outlier_values = filtrar_outlier_tukey(house_data[l[i]])\n",
    "for i in range(19):\n",
    "    contador=0\n",
    "    borrar=0\n",
    "    j=0\n",
    "    while j<=(i+1)*18:\n",
    "        if outlier_indices[j] in range(i*19, 19+(i)*19):\n",
    "            contador=contador+1\n",
    "            j=j+1\n",
    "        else:\n",
    "            j=j+1\n",
    "        if contador>=4:\n",
    "            if borrar==0:\n",
    "                house_data.drop([i], axis=0, inplace=True)\n",
    "            borrar=1\n",
    "house_data"
   ]
  },
  {
   "cell_type": "markdown",
   "metadata": {},
   "source": [
    "Vemos que ha eliminado 5 filas, por tanto había 5 observaciones que tenían más de 4 outliers"
   ]
  },
  {
   "cell_type": "markdown",
   "metadata": {},
   "source": [
    "# 3. Transformación de variables"
   ]
  },
  {
   "cell_type": "markdown",
   "metadata": {},
   "source": [
    "En este apartado transformaremos las variables"
   ]
  },
  {
   "cell_type": "markdown",
   "metadata": {},
   "source": [
    "Para poder determinar la influencia de las variables sobre la variable objetivo obtenemos un mapa de calor con las correlaciones del precio con el resto de variables:"
   ]
  },
  {
   "cell_type": "code",
   "execution_count": 17,
   "metadata": {},
   "outputs": [
    {
     "data": {
      "text/plain": [
       "<matplotlib.axes._subplots.AxesSubplot at 0x7ff5f7a27c40>"
      ]
     },
     "execution_count": 17,
     "metadata": {},
     "output_type": "execute_result"
    },
    {
     "data": {
      "image/png": "[encoded data removed]",
      "text/plain": [
       "<Figure size 720x720 with 2 Axes>"
      ]
     },
     "metadata": {},
     "output_type": "display_data"
    }
   ],
   "source": [
    "corr = house_data.corr()[['price']].sort_values(by='price', ascending=False)\n",
    "fig, ax = plt.subplots(figsize=(10,10))\n",
    "sns.heatmap(corr, annot=True,linewidths=.5, ax=ax)"
   ]
  },
  {
   "cell_type": "markdown",
   "metadata": {},
   "source": [
    "Hay algunas variables como por ejemplo `yr_renovated`, `sqm_lot`,`sqm_lot15`,`condition`,`yr_built` y `zip_code` que tienen correlaciones muy bajas con la variable precio, por lo que no serán muy útiles en el estudio y las eliminamos. "
   ]
  },
  {
   "cell_type": "markdown",
   "metadata": {},
   "source": [
    "Otras variables como `sqm_above` y `sqm_basement` sumadas nos dan `sqm_living`que ya la estamos conservando"
   ]
  },
  {
   "cell_type": "code",
   "execution_count": 18,
   "metadata": {},
   "outputs": [],
   "source": [
    "house_data = house_data.drop(['sqm_above','sqm_basement','sqm_lot','yr_renovated','sqm_lot15','condition','zip_code','yr_built'],axis=1) "
   ]
  },
  {
   "cell_type": "markdown",
   "metadata": {},
   "source": [
    "Ciertas variables como `bedrooms` ,`bathrooms` y `sqm_living15` las eliminaremos ya que son parte de los metros cuadrados de la vivienda y no será útil tenerlas en cuenta ya que vemos que tienen una correlación alta con `sqm_living` por lo que sería redundante mantenerlas"
   ]
  },
  {
   "cell_type": "code",
   "execution_count": 19,
   "metadata": {},
   "outputs": [
    {
     "data": {
      "text/html": [
       "<div>\n",
       "<style scoped>\n",
       "    .dataframe tbody tr th:only-of-type {\n",
       "        vertical-align: middle;\n",
       "    }\n",
       "\n",
       "    .dataframe tbody tr th {\n",
       "        vertical-align: top;\n",
       "    }\n",
       "\n",
       "    .dataframe thead th {\n",
       "        text-align: right;\n",
       "    }\n",
       "</style>\n",
       "<table border=\"1\" class=\"dataframe\">\n",
       "  <thead>\n",
       "    <tr style=\"text-align: right;\">\n",
       "      <th></th>\n",
       "      <th>price</th>\n",
       "      <th>bedrooms</th>\n",
       "      <th>bathrooms</th>\n",
       "      <th>sqm_living</th>\n",
       "      <th>floors</th>\n",
       "      <th>waterfront</th>\n",
       "      <th>view</th>\n",
       "      <th>grade</th>\n",
       "      <th>lat</th>\n",
       "      <th>long</th>\n",
       "      <th>sqm_living15</th>\n",
       "    </tr>\n",
       "  </thead>\n",
       "  <tbody>\n",
       "    <tr>\n",
       "      <th>price</th>\n",
       "      <td>1.000000</td>\n",
       "      <td>0.308258</td>\n",
       "      <td>0.524985</td>\n",
       "      <td>0.701968</td>\n",
       "      <td>0.256863</td>\n",
       "      <td>0.266401</td>\n",
       "      <td>0.397343</td>\n",
       "      <td>0.667360</td>\n",
       "      <td>0.306960</td>\n",
       "      <td>0.021489</td>\n",
       "      <td>0.585287</td>\n",
       "    </tr>\n",
       "    <tr>\n",
       "      <th>bedrooms</th>\n",
       "      <td>0.308258</td>\n",
       "      <td>1.000000</td>\n",
       "      <td>0.515839</td>\n",
       "      <td>0.576720</td>\n",
       "      <td>0.175435</td>\n",
       "      <td>-0.006587</td>\n",
       "      <td>0.079526</td>\n",
       "      <td>0.356942</td>\n",
       "      <td>-0.009064</td>\n",
       "      <td>0.129476</td>\n",
       "      <td>0.391639</td>\n",
       "    </tr>\n",
       "    <tr>\n",
       "      <th>bathrooms</th>\n",
       "      <td>0.524985</td>\n",
       "      <td>0.515839</td>\n",
       "      <td>1.000000</td>\n",
       "      <td>0.754551</td>\n",
       "      <td>0.500960</td>\n",
       "      <td>0.063769</td>\n",
       "      <td>0.187815</td>\n",
       "      <td>0.664895</td>\n",
       "      <td>0.024435</td>\n",
       "      <td>0.222969</td>\n",
       "      <td>0.568436</td>\n",
       "    </tr>\n",
       "    <tr>\n",
       "      <th>sqm_living</th>\n",
       "      <td>0.701968</td>\n",
       "      <td>0.576720</td>\n",
       "      <td>0.754551</td>\n",
       "      <td>1.000000</td>\n",
       "      <td>0.354168</td>\n",
       "      <td>0.103859</td>\n",
       "      <td>0.284729</td>\n",
       "      <td>0.762596</td>\n",
       "      <td>0.052349</td>\n",
       "      <td>0.240039</td>\n",
       "      <td>0.756256</td>\n",
       "    </tr>\n",
       "    <tr>\n",
       "      <th>floors</th>\n",
       "      <td>0.256863</td>\n",
       "      <td>0.175435</td>\n",
       "      <td>0.500960</td>\n",
       "      <td>0.354168</td>\n",
       "      <td>1.000000</td>\n",
       "      <td>0.023685</td>\n",
       "      <td>0.029395</td>\n",
       "      <td>0.458367</td>\n",
       "      <td>0.049520</td>\n",
       "      <td>0.125421</td>\n",
       "      <td>0.280087</td>\n",
       "    </tr>\n",
       "    <tr>\n",
       "      <th>waterfront</th>\n",
       "      <td>0.266401</td>\n",
       "      <td>-0.006587</td>\n",
       "      <td>0.063769</td>\n",
       "      <td>0.103859</td>\n",
       "      <td>0.023685</td>\n",
       "      <td>1.000000</td>\n",
       "      <td>0.401856</td>\n",
       "      <td>0.082795</td>\n",
       "      <td>-0.014280</td>\n",
       "      <td>-0.041917</td>\n",
       "      <td>0.086506</td>\n",
       "    </tr>\n",
       "    <tr>\n",
       "      <th>view</th>\n",
       "      <td>0.397343</td>\n",
       "      <td>0.079526</td>\n",
       "      <td>0.187815</td>\n",
       "      <td>0.284729</td>\n",
       "      <td>0.029395</td>\n",
       "      <td>0.401856</td>\n",
       "      <td>1.000000</td>\n",
       "      <td>0.251386</td>\n",
       "      <td>0.006143</td>\n",
       "      <td>-0.078417</td>\n",
       "      <td>0.280582</td>\n",
       "    </tr>\n",
       "    <tr>\n",
       "      <th>grade</th>\n",
       "      <td>0.667360</td>\n",
       "      <td>0.356942</td>\n",
       "      <td>0.664895</td>\n",
       "      <td>0.762596</td>\n",
       "      <td>0.458367</td>\n",
       "      <td>0.082795</td>\n",
       "      <td>0.251386</td>\n",
       "      <td>1.000000</td>\n",
       "      <td>0.113990</td>\n",
       "      <td>0.198186</td>\n",
       "      <td>0.713064</td>\n",
       "    </tr>\n",
       "    <tr>\n",
       "      <th>lat</th>\n",
       "      <td>0.306960</td>\n",
       "      <td>-0.009064</td>\n",
       "      <td>0.024435</td>\n",
       "      <td>0.052349</td>\n",
       "      <td>0.049520</td>\n",
       "      <td>-0.014280</td>\n",
       "      <td>0.006143</td>\n",
       "      <td>0.113990</td>\n",
       "      <td>1.000000</td>\n",
       "      <td>-0.135638</td>\n",
       "      <td>0.048627</td>\n",
       "    </tr>\n",
       "    <tr>\n",
       "      <th>long</th>\n",
       "      <td>0.021489</td>\n",
       "      <td>0.129476</td>\n",
       "      <td>0.222969</td>\n",
       "      <td>0.240039</td>\n",
       "      <td>0.125421</td>\n",
       "      <td>-0.041917</td>\n",
       "      <td>-0.078417</td>\n",
       "      <td>0.198186</td>\n",
       "      <td>-0.135638</td>\n",
       "      <td>1.000000</td>\n",
       "      <td>0.334441</td>\n",
       "    </tr>\n",
       "    <tr>\n",
       "      <th>sqm_living15</th>\n",
       "      <td>0.585287</td>\n",
       "      <td>0.391639</td>\n",
       "      <td>0.568436</td>\n",
       "      <td>0.756256</td>\n",
       "      <td>0.280087</td>\n",
       "      <td>0.086506</td>\n",
       "      <td>0.280582</td>\n",
       "      <td>0.713064</td>\n",
       "      <td>0.048627</td>\n",
       "      <td>0.334441</td>\n",
       "      <td>1.000000</td>\n",
       "    </tr>\n",
       "  </tbody>\n",
       "</table>\n",
       "</div>"
      ],
      "text/plain": [
       "                 price  bedrooms  bathrooms  sqm_living    floors  waterfront  \\\n",
       "price         1.000000  0.308258   0.524985    0.701968  0.256863    0.266401   \n",
       "bedrooms      0.308258  1.000000   0.515839    0.576720  0.175435   -0.006587   \n",
       "bathrooms     0.524985  0.515839   1.000000    0.754551  0.500960    0.063769   \n",
       "sqm_living    0.701968  0.576720   0.754551    1.000000  0.354168    0.103859   \n",
       "floors        0.256863  0.175435   0.500960    0.354168  1.000000    0.023685   \n",
       "waterfront    0.266401 -0.006587   0.063769    0.103859  0.023685    1.000000   \n",
       "view          0.397343  0.079526   0.187815    0.284729  0.029395    0.401856   \n",
       "grade         0.667360  0.356942   0.664895    0.762596  0.458367    0.082795   \n",
       "lat           0.306960 -0.009064   0.024435    0.052349  0.049520   -0.014280   \n",
       "long          0.021489  0.129476   0.222969    0.240039  0.125421   -0.041917   \n",
       "sqm_living15  0.585287  0.391639   0.568436    0.756256  0.280087    0.086506   \n",
       "\n",
       "                  view     grade       lat      long  sqm_living15  \n",
       "price         0.397343  0.667360  0.306960  0.021489      0.585287  \n",
       "bedrooms      0.079526  0.356942 -0.009064  0.129476      0.391639  \n",
       "bathrooms     0.187815  0.664895  0.024435  0.222969      0.568436  \n",
       "sqm_living    0.284729  0.762596  0.052349  0.240039      0.756256  \n",
       "floors        0.029395  0.458367  0.049520  0.125421      0.280087  \n",
       "waterfront    0.401856  0.082795 -0.014280 -0.041917      0.086506  \n",
       "view          1.000000  0.251386  0.006143 -0.078417      0.280582  \n",
       "grade         0.251386  1.000000  0.113990  0.198186      0.713064  \n",
       "lat           0.006143  0.113990  1.000000 -0.135638      0.048627  \n",
       "long         -0.078417  0.198186 -0.135638  1.000000      0.334441  \n",
       "sqm_living15  0.280582  0.713064  0.048627  0.334441      1.000000  "
      ]
     },
     "execution_count": 19,
     "metadata": {},
     "output_type": "execute_result"
    }
   ],
   "source": [
    "house_data.corr()"
   ]
  },
  {
   "cell_type": "code",
   "execution_count": 20,
   "metadata": {},
   "outputs": [],
   "source": [
    "house_data = house_data.drop(['bedrooms','bathrooms','sqm_living15'], axis=1) "
   ]
  },
  {
   "cell_type": "markdown",
   "metadata": {},
   "source": [
    "La `latitud` y la `longitud` podrían llegar a ser importantes ya que marca dónde se sitúa la vivienda, haremos un estudio más detallado para tratar de explicar su importancia."
   ]
  },
  {
   "cell_type": "markdown",
   "metadata": {},
   "source": [
    "Creamos intervalos para dividir las latitudes y longitudes en sectores de la ciudad:"
   ]
  },
  {
   "cell_type": "code",
   "execution_count": 21,
   "metadata": {},
   "outputs": [],
   "source": [
    "house_data2=house_data.copy()"
   ]
  },
  {
   "cell_type": "code",
   "execution_count": 22,
   "metadata": {},
   "outputs": [],
   "source": [
    "bins = [47.1559,47.27,47.39,47.51,47.63,47.7776]\n",
    "names = [\"1\", \"2\", \"3\", \"4\", \"5\"]\n",
    "house_data2[\"lat\"] = pd.cut(house_data2[\"lat\"], bins, labels = names)"
   ]
  },
  {
   "cell_type": "code",
   "execution_count": 23,
   "metadata": {},
   "outputs": [],
   "source": [
    "bins2 = [-122.519,-122.41,-122.30,-122.19,-122.08,-121.97,-121.86,-121.75,-121.64,-121.53,-121.42,-121.315]\n",
    "names2 = [\"A\", \"B\", \"C\", \"D\", \"E\",\"F\",\"G\",\"H\",\"I\",\"J\",\"K\"]\n",
    "house_data2[\"long\"] = pd.cut(house_data2[\"long\"], bins2, labels = names2)"
   ]
  },
  {
   "cell_type": "code",
   "execution_count": 24,
   "metadata": {},
   "outputs": [
    {
     "data": {
      "text/html": [
       "<div>\n",
       "<style scoped>\n",
       "    .dataframe tbody tr th:only-of-type {\n",
       "        vertical-align: middle;\n",
       "    }\n",
       "\n",
       "    .dataframe tbody tr th {\n",
       "        vertical-align: top;\n",
       "    }\n",
       "\n",
       "    .dataframe thead th {\n",
       "        text-align: right;\n",
       "    }\n",
       "</style>\n",
       "<table border=\"1\" class=\"dataframe\">\n",
       "  <thead>\n",
       "    <tr style=\"text-align: right;\">\n",
       "      <th></th>\n",
       "      <th></th>\n",
       "      <th>price</th>\n",
       "      <th>sqm_living</th>\n",
       "      <th>floors</th>\n",
       "      <th>waterfront</th>\n",
       "      <th>view</th>\n",
       "      <th>grade</th>\n",
       "    </tr>\n",
       "    <tr>\n",
       "      <th>lat</th>\n",
       "      <th>long</th>\n",
       "      <th></th>\n",
       "      <th></th>\n",
       "      <th></th>\n",
       "      <th></th>\n",
       "      <th></th>\n",
       "      <th></th>\n",
       "    </tr>\n",
       "  </thead>\n",
       "  <tbody>\n",
       "    <tr>\n",
       "      <th rowspan=\"11\" valign=\"top\">1</th>\n",
       "      <th>A</th>\n",
       "      <td>NaN</td>\n",
       "      <td>NaN</td>\n",
       "      <td>NaN</td>\n",
       "      <td>NaN</td>\n",
       "      <td>NaN</td>\n",
       "      <td>NaN</td>\n",
       "    </tr>\n",
       "    <tr>\n",
       "      <th>B</th>\n",
       "      <td>3.068712e+05</td>\n",
       "      <td>188.835751</td>\n",
       "      <td>1.583333</td>\n",
       "      <td>0.000000</td>\n",
       "      <td>0.000000</td>\n",
       "      <td>7.666667</td>\n",
       "    </tr>\n",
       "    <tr>\n",
       "      <th>C</th>\n",
       "      <td>2.887199e+05</td>\n",
       "      <td>189.022679</td>\n",
       "      <td>1.713768</td>\n",
       "      <td>0.000000</td>\n",
       "      <td>0.065217</td>\n",
       "      <td>7.623188</td>\n",
       "    </tr>\n",
       "    <tr>\n",
       "      <th>D</th>\n",
       "      <td>4.587458e+05</td>\n",
       "      <td>239.209844</td>\n",
       "      <td>1.416667</td>\n",
       "      <td>0.000000</td>\n",
       "      <td>1.583333</td>\n",
       "      <td>7.833333</td>\n",
       "    </tr>\n",
       "    <tr>\n",
       "      <th>E</th>\n",
       "      <td>3.085171e+05</td>\n",
       "      <td>167.249476</td>\n",
       "      <td>1.327751</td>\n",
       "      <td>0.000000</td>\n",
       "      <td>0.660287</td>\n",
       "      <td>7.157895</td>\n",
       "    </tr>\n",
       "    <tr>\n",
       "      <th>F</th>\n",
       "      <td>3.858182e+05</td>\n",
       "      <td>204.597831</td>\n",
       "      <td>1.340909</td>\n",
       "      <td>0.000000</td>\n",
       "      <td>0.636364</td>\n",
       "      <td>7.272727</td>\n",
       "    </tr>\n",
       "    <tr>\n",
       "      <th>G</th>\n",
       "      <td>NaN</td>\n",
       "      <td>NaN</td>\n",
       "      <td>NaN</td>\n",
       "      <td>NaN</td>\n",
       "      <td>NaN</td>\n",
       "      <td>NaN</td>\n",
       "    </tr>\n",
       "    <tr>\n",
       "      <th>H</th>\n",
       "      <td>NaN</td>\n",
       "      <td>NaN</td>\n",
       "      <td>NaN</td>\n",
       "      <td>NaN</td>\n",
       "      <td>NaN</td>\n",
       "      <td>NaN</td>\n",
       "    </tr>\n",
       "    <tr>\n",
       "      <th>I</th>\n",
       "      <td>NaN</td>\n",
       "      <td>NaN</td>\n",
       "      <td>NaN</td>\n",
       "      <td>NaN</td>\n",
       "      <td>NaN</td>\n",
       "      <td>NaN</td>\n",
       "    </tr>\n",
       "    <tr>\n",
       "      <th>J</th>\n",
       "      <td>NaN</td>\n",
       "      <td>NaN</td>\n",
       "      <td>NaN</td>\n",
       "      <td>NaN</td>\n",
       "      <td>NaN</td>\n",
       "      <td>NaN</td>\n",
       "    </tr>\n",
       "    <tr>\n",
       "      <th>K</th>\n",
       "      <td>NaN</td>\n",
       "      <td>NaN</td>\n",
       "      <td>NaN</td>\n",
       "      <td>NaN</td>\n",
       "      <td>NaN</td>\n",
       "      <td>NaN</td>\n",
       "    </tr>\n",
       "    <tr>\n",
       "      <th rowspan=\"11\" valign=\"top\">2</th>\n",
       "      <th>A</th>\n",
       "      <td>4.821811e+05</td>\n",
       "      <td>184.950246</td>\n",
       "      <td>1.515152</td>\n",
       "      <td>0.242424</td>\n",
       "      <td>1.363636</td>\n",
       "      <td>7.242424</td>\n",
       "    </tr>\n",
       "    <tr>\n",
       "      <th>B</th>\n",
       "      <td>2.919797e+05</td>\n",
       "      <td>178.236314</td>\n",
       "      <td>1.296894</td>\n",
       "      <td>0.016726</td>\n",
       "      <td>0.250896</td>\n",
       "      <td>7.510155</td>\n",
       "    </tr>\n",
       "    <tr>\n",
       "      <th>C</th>\n",
       "      <td>2.742487e+05</td>\n",
       "      <td>172.503512</td>\n",
       "      <td>1.379012</td>\n",
       "      <td>0.000000</td>\n",
       "      <td>0.065432</td>\n",
       "      <td>7.214815</td>\n",
       "    </tr>\n",
       "    <tr>\n",
       "      <th>D</th>\n",
       "      <td>3.106431e+05</td>\n",
       "      <td>186.871562</td>\n",
       "      <td>1.513125</td>\n",
       "      <td>0.000000</td>\n",
       "      <td>0.037500</td>\n",
       "      <td>7.528750</td>\n",
       "    </tr>\n",
       "    <tr>\n",
       "      <th>E</th>\n",
       "      <td>3.524208e+05</td>\n",
       "      <td>193.841783</td>\n",
       "      <td>1.728676</td>\n",
       "      <td>0.000000</td>\n",
       "      <td>0.032353</td>\n",
       "      <td>7.510294</td>\n",
       "    </tr>\n",
       "    <tr>\n",
       "      <th>F</th>\n",
       "      <td>4.089730e+05</td>\n",
       "      <td>193.618381</td>\n",
       "      <td>1.318182</td>\n",
       "      <td>0.000000</td>\n",
       "      <td>0.227273</td>\n",
       "      <td>7.363636</td>\n",
       "    </tr>\n",
       "    <tr>\n",
       "      <th>G</th>\n",
       "      <td>NaN</td>\n",
       "      <td>NaN</td>\n",
       "      <td>NaN</td>\n",
       "      <td>NaN</td>\n",
       "      <td>NaN</td>\n",
       "      <td>NaN</td>\n",
       "    </tr>\n",
       "    <tr>\n",
       "      <th>H</th>\n",
       "      <td>NaN</td>\n",
       "      <td>NaN</td>\n",
       "      <td>NaN</td>\n",
       "      <td>NaN</td>\n",
       "      <td>NaN</td>\n",
       "      <td>NaN</td>\n",
       "    </tr>\n",
       "    <tr>\n",
       "      <th>I</th>\n",
       "      <td>NaN</td>\n",
       "      <td>NaN</td>\n",
       "      <td>NaN</td>\n",
       "      <td>NaN</td>\n",
       "      <td>NaN</td>\n",
       "      <td>NaN</td>\n",
       "    </tr>\n",
       "    <tr>\n",
       "      <th>J</th>\n",
       "      <td>NaN</td>\n",
       "      <td>NaN</td>\n",
       "      <td>NaN</td>\n",
       "      <td>NaN</td>\n",
       "      <td>NaN</td>\n",
       "      <td>NaN</td>\n",
       "    </tr>\n",
       "    <tr>\n",
       "      <th>K</th>\n",
       "      <td>NaN</td>\n",
       "      <td>NaN</td>\n",
       "      <td>NaN</td>\n",
       "      <td>NaN</td>\n",
       "      <td>NaN</td>\n",
       "      <td>NaN</td>\n",
       "    </tr>\n",
       "    <tr>\n",
       "      <th rowspan=\"11\" valign=\"top\">3</th>\n",
       "      <th>A</th>\n",
       "      <td>4.896502e+05</td>\n",
       "      <td>170.428415</td>\n",
       "      <td>1.369048</td>\n",
       "      <td>0.190476</td>\n",
       "      <td>0.988095</td>\n",
       "      <td>7.261905</td>\n",
       "    </tr>\n",
       "    <tr>\n",
       "      <th>B</th>\n",
       "      <td>3.545116e+05</td>\n",
       "      <td>163.656636</td>\n",
       "      <td>1.192073</td>\n",
       "      <td>0.028049</td>\n",
       "      <td>0.425610</td>\n",
       "      <td>6.946341</td>\n",
       "    </tr>\n",
       "    <tr>\n",
       "      <th>C</th>\n",
       "      <td>2.945125e+05</td>\n",
       "      <td>164.194068</td>\n",
       "      <td>1.271050</td>\n",
       "      <td>0.003460</td>\n",
       "      <td>0.211073</td>\n",
       "      <td>7.002307</td>\n",
       "    </tr>\n",
       "    <tr>\n",
       "      <th>D</th>\n",
       "      <td>3.607313e+05</td>\n",
       "      <td>189.823965</td>\n",
       "      <td>1.454396</td>\n",
       "      <td>0.000000</td>\n",
       "      <td>0.019721</td>\n",
       "      <td>7.410025</td>\n",
       "    </tr>\n",
       "    <tr>\n",
       "      <th>E</th>\n",
       "      <td>5.296176e+05</td>\n",
       "      <td>242.002842</td>\n",
       "      <td>1.445876</td>\n",
       "      <td>0.000000</td>\n",
       "      <td>0.082474</td>\n",
       "      <td>7.989691</td>\n",
       "    </tr>\n",
       "    <tr>\n",
       "      <th>F</th>\n",
       "      <td>5.995281e+05</td>\n",
       "      <td>231.560827</td>\n",
       "      <td>1.406250</td>\n",
       "      <td>0.000000</td>\n",
       "      <td>0.000000</td>\n",
       "      <td>7.937500</td>\n",
       "    </tr>\n",
       "    <tr>\n",
       "      <th>G</th>\n",
       "      <td>4.136479e+05</td>\n",
       "      <td>179.861541</td>\n",
       "      <td>1.445946</td>\n",
       "      <td>0.000000</td>\n",
       "      <td>0.222973</td>\n",
       "      <td>7.472973</td>\n",
       "    </tr>\n",
       "    <tr>\n",
       "      <th>H</th>\n",
       "      <td>4.999883e+05</td>\n",
       "      <td>221.240963</td>\n",
       "      <td>1.626866</td>\n",
       "      <td>0.000000</td>\n",
       "      <td>0.358209</td>\n",
       "      <td>8.074627</td>\n",
       "    </tr>\n",
       "    <tr>\n",
       "      <th>I</th>\n",
       "      <td>NaN</td>\n",
       "      <td>NaN</td>\n",
       "      <td>NaN</td>\n",
       "      <td>NaN</td>\n",
       "      <td>NaN</td>\n",
       "      <td>NaN</td>\n",
       "    </tr>\n",
       "    <tr>\n",
       "      <th>J</th>\n",
       "      <td>NaN</td>\n",
       "      <td>NaN</td>\n",
       "      <td>NaN</td>\n",
       "      <td>NaN</td>\n",
       "      <td>NaN</td>\n",
       "      <td>NaN</td>\n",
       "    </tr>\n",
       "    <tr>\n",
       "      <th>K</th>\n",
       "      <td>5.250000e+05</td>\n",
       "      <td>195.096384</td>\n",
       "      <td>2.000000</td>\n",
       "      <td>0.000000</td>\n",
       "      <td>0.000000</td>\n",
       "      <td>9.000000</td>\n",
       "    </tr>\n",
       "    <tr>\n",
       "      <th rowspan=\"11\" valign=\"top\">4</th>\n",
       "      <th>A</th>\n",
       "      <td>5.704267e+05</td>\n",
       "      <td>152.801053</td>\n",
       "      <td>1.736842</td>\n",
       "      <td>0.000000</td>\n",
       "      <td>0.105263</td>\n",
       "      <td>7.684211</td>\n",
       "    </tr>\n",
       "    <tr>\n",
       "      <th>B</th>\n",
       "      <td>4.954113e+05</td>\n",
       "      <td>155.878888</td>\n",
       "      <td>1.510339</td>\n",
       "      <td>0.003181</td>\n",
       "      <td>0.327678</td>\n",
       "      <td>7.274125</td>\n",
       "    </tr>\n",
       "    <tr>\n",
       "      <th>C</th>\n",
       "      <td>8.117461e+05</td>\n",
       "      <td>212.953066</td>\n",
       "      <td>1.502717</td>\n",
       "      <td>0.018720</td>\n",
       "      <td>0.444444</td>\n",
       "      <td>7.894324</td>\n",
       "    </tr>\n",
       "    <tr>\n",
       "      <th>D</th>\n",
       "      <td>7.348375e+05</td>\n",
       "      <td>238.512873</td>\n",
       "      <td>1.402800</td>\n",
       "      <td>0.011200</td>\n",
       "      <td>0.414400</td>\n",
       "      <td>8.352000</td>\n",
       "    </tr>\n",
       "    <tr>\n",
       "      <th>E</th>\n",
       "      <td>6.675632e+05</td>\n",
       "      <td>238.391430</td>\n",
       "      <td>1.818766</td>\n",
       "      <td>0.008569</td>\n",
       "      <td>0.146530</td>\n",
       "      <td>8.529563</td>\n",
       "    </tr>\n",
       "    <tr>\n",
       "      <th>F</th>\n",
       "      <td>5.973203e+05</td>\n",
       "      <td>258.404707</td>\n",
       "      <td>1.842988</td>\n",
       "      <td>0.000000</td>\n",
       "      <td>0.295732</td>\n",
       "      <td>8.112805</td>\n",
       "    </tr>\n",
       "    <tr>\n",
       "      <th>G</th>\n",
       "      <td>4.409578e+05</td>\n",
       "      <td>183.608374</td>\n",
       "      <td>1.591398</td>\n",
       "      <td>0.000000</td>\n",
       "      <td>0.387097</td>\n",
       "      <td>7.150538</td>\n",
       "    </tr>\n",
       "    <tr>\n",
       "      <th>H</th>\n",
       "      <td>3.199042e+05</td>\n",
       "      <td>123.870720</td>\n",
       "      <td>1.333333</td>\n",
       "      <td>0.000000</td>\n",
       "      <td>0.000000</td>\n",
       "      <td>6.000000</td>\n",
       "    </tr>\n",
       "    <tr>\n",
       "      <th>I</th>\n",
       "      <td>NaN</td>\n",
       "      <td>NaN</td>\n",
       "      <td>NaN</td>\n",
       "      <td>NaN</td>\n",
       "      <td>NaN</td>\n",
       "      <td>NaN</td>\n",
       "    </tr>\n",
       "    <tr>\n",
       "      <th>J</th>\n",
       "      <td>NaN</td>\n",
       "      <td>NaN</td>\n",
       "      <td>NaN</td>\n",
       "      <td>NaN</td>\n",
       "      <td>NaN</td>\n",
       "      <td>NaN</td>\n",
       "    </tr>\n",
       "    <tr>\n",
       "      <th>K</th>\n",
       "      <td>NaN</td>\n",
       "      <td>NaN</td>\n",
       "      <td>NaN</td>\n",
       "      <td>NaN</td>\n",
       "      <td>NaN</td>\n",
       "      <td>NaN</td>\n",
       "    </tr>\n",
       "    <tr>\n",
       "      <th rowspan=\"11\" valign=\"top\">5</th>\n",
       "      <th>A</th>\n",
       "      <td>1.103951e+06</td>\n",
       "      <td>257.390317</td>\n",
       "      <td>1.447368</td>\n",
       "      <td>0.026316</td>\n",
       "      <td>1.289474</td>\n",
       "      <td>9.000000</td>\n",
       "    </tr>\n",
       "    <tr>\n",
       "      <th>B</th>\n",
       "      <td>5.783655e+05</td>\n",
       "      <td>164.237284</td>\n",
       "      <td>1.535629</td>\n",
       "      <td>0.000266</td>\n",
       "      <td>0.206860</td>\n",
       "      <td>7.423558</td>\n",
       "    </tr>\n",
       "    <tr>\n",
       "      <th>C</th>\n",
       "      <td>7.090301e+05</td>\n",
       "      <td>206.845763</td>\n",
       "      <td>1.408811</td>\n",
       "      <td>0.015369</td>\n",
       "      <td>0.326844</td>\n",
       "      <td>7.791496</td>\n",
       "    </tr>\n",
       "    <tr>\n",
       "      <th>D</th>\n",
       "      <td>6.230155e+05</td>\n",
       "      <td>217.422472</td>\n",
       "      <td>1.516152</td>\n",
       "      <td>0.002809</td>\n",
       "      <td>0.063202</td>\n",
       "      <td>8.082865</td>\n",
       "    </tr>\n",
       "    <tr>\n",
       "      <th>E</th>\n",
       "      <td>6.590934e+05</td>\n",
       "      <td>244.628924</td>\n",
       "      <td>1.658585</td>\n",
       "      <td>0.002621</td>\n",
       "      <td>0.068152</td>\n",
       "      <td>8.452163</td>\n",
       "    </tr>\n",
       "    <tr>\n",
       "      <th>F</th>\n",
       "      <td>4.543173e+05</td>\n",
       "      <td>201.446885</td>\n",
       "      <td>1.600858</td>\n",
       "      <td>0.000000</td>\n",
       "      <td>0.085837</td>\n",
       "      <td>7.454936</td>\n",
       "    </tr>\n",
       "    <tr>\n",
       "      <th>G</th>\n",
       "      <td>3.477000e+05</td>\n",
       "      <td>124.490074</td>\n",
       "      <td>1.500000</td>\n",
       "      <td>0.000000</td>\n",
       "      <td>0.000000</td>\n",
       "      <td>5.500000</td>\n",
       "    </tr>\n",
       "    <tr>\n",
       "      <th>H</th>\n",
       "      <td>NaN</td>\n",
       "      <td>NaN</td>\n",
       "      <td>NaN</td>\n",
       "      <td>NaN</td>\n",
       "      <td>NaN</td>\n",
       "      <td>NaN</td>\n",
       "    </tr>\n",
       "    <tr>\n",
       "      <th>I</th>\n",
       "      <td>NaN</td>\n",
       "      <td>NaN</td>\n",
       "      <td>NaN</td>\n",
       "      <td>NaN</td>\n",
       "      <td>NaN</td>\n",
       "      <td>NaN</td>\n",
       "    </tr>\n",
       "    <tr>\n",
       "      <th>J</th>\n",
       "      <td>1.725000e+05</td>\n",
       "      <td>88.257888</td>\n",
       "      <td>1.250000</td>\n",
       "      <td>0.000000</td>\n",
       "      <td>1.000000</td>\n",
       "      <td>6.000000</td>\n",
       "    </tr>\n",
       "    <tr>\n",
       "      <th>K</th>\n",
       "      <td>2.251429e+05</td>\n",
       "      <td>125.750901</td>\n",
       "      <td>1.535714</td>\n",
       "      <td>0.000000</td>\n",
       "      <td>0.000000</td>\n",
       "      <td>6.500000</td>\n",
       "    </tr>\n",
       "  </tbody>\n",
       "</table>\n",
       "</div>"
      ],
      "text/plain": [
       "                 price  sqm_living    floors  waterfront      view     grade\n",
       "lat long                                                                    \n",
       "1   A              NaN         NaN       NaN         NaN       NaN       NaN\n",
       "    B     3.068712e+05  188.835751  1.583333    0.000000  0.000000  7.666667\n",
       "    C     2.887199e+05  189.022679  1.713768    0.000000  0.065217  7.623188\n",
       "    D     4.587458e+05  239.209844  1.416667    0.000000  1.583333  7.833333\n",
       "    E     3.085171e+05  167.249476  1.327751    0.000000  0.660287  7.157895\n",
       "    F     3.858182e+05  204.597831  1.340909    0.000000  0.636364  7.272727\n",
       "    G              NaN         NaN       NaN         NaN       NaN       NaN\n",
       "    H              NaN         NaN       NaN         NaN       NaN       NaN\n",
       "    I              NaN         NaN       NaN         NaN       NaN       NaN\n",
       "    J              NaN         NaN       NaN         NaN       NaN       NaN\n",
       "    K              NaN         NaN       NaN         NaN       NaN       NaN\n",
       "2   A     4.821811e+05  184.950246  1.515152    0.242424  1.363636  7.242424\n",
       "    B     2.919797e+05  178.236314  1.296894    0.016726  0.250896  7.510155\n",
       "    C     2.742487e+05  172.503512  1.379012    0.000000  0.065432  7.214815\n",
       "    D     3.106431e+05  186.871562  1.513125    0.000000  0.037500  7.528750\n",
       "    E     3.524208e+05  193.841783  1.728676    0.000000  0.032353  7.510294\n",
       "    F     4.089730e+05  193.618381  1.318182    0.000000  0.227273  7.363636\n",
       "    G              NaN         NaN       NaN         NaN       NaN       NaN\n",
       "    H              NaN         NaN       NaN         NaN       NaN       NaN\n",
       "    I              NaN         NaN       NaN         NaN       NaN       NaN\n",
       "    J              NaN         NaN       NaN         NaN       NaN       NaN\n",
       "    K              NaN         NaN       NaN         NaN       NaN       NaN\n",
       "3   A     4.896502e+05  170.428415  1.369048    0.190476  0.988095  7.261905\n",
       "    B     3.545116e+05  163.656636  1.192073    0.028049  0.425610  6.946341\n",
       "    C     2.945125e+05  164.194068  1.271050    0.003460  0.211073  7.002307\n",
       "    D     3.607313e+05  189.823965  1.454396    0.000000  0.019721  7.410025\n",
       "    E     5.296176e+05  242.002842  1.445876    0.000000  0.082474  7.989691\n",
       "    F     5.995281e+05  231.560827  1.406250    0.000000  0.000000  7.937500\n",
       "    G     4.136479e+05  179.861541  1.445946    0.000000  0.222973  7.472973\n",
       "    H     4.999883e+05  221.240963  1.626866    0.000000  0.358209  8.074627\n",
       "    I              NaN         NaN       NaN         NaN       NaN       NaN\n",
       "    J              NaN         NaN       NaN         NaN       NaN       NaN\n",
       "    K     5.250000e+05  195.096384  2.000000    0.000000  0.000000  9.000000\n",
       "4   A     5.704267e+05  152.801053  1.736842    0.000000  0.105263  7.684211\n",
       "    B     4.954113e+05  155.878888  1.510339    0.003181  0.327678  7.274125\n",
       "    C     8.117461e+05  212.953066  1.502717    0.018720  0.444444  7.894324\n",
       "    D     7.348375e+05  238.512873  1.402800    0.011200  0.414400  8.352000\n",
       "    E     6.675632e+05  238.391430  1.818766    0.008569  0.146530  8.529563\n",
       "    F     5.973203e+05  258.404707  1.842988    0.000000  0.295732  8.112805\n",
       "    G     4.409578e+05  183.608374  1.591398    0.000000  0.387097  7.150538\n",
       "    H     3.199042e+05  123.870720  1.333333    0.000000  0.000000  6.000000\n",
       "    I              NaN         NaN       NaN         NaN       NaN       NaN\n",
       "    J              NaN         NaN       NaN         NaN       NaN       NaN\n",
       "    K              NaN         NaN       NaN         NaN       NaN       NaN\n",
       "5   A     1.103951e+06  257.390317  1.447368    0.026316  1.289474  9.000000\n",
       "    B     5.783655e+05  164.237284  1.535629    0.000266  0.206860  7.423558\n",
       "    C     7.090301e+05  206.845763  1.408811    0.015369  0.326844  7.791496\n",
       "    D     6.230155e+05  217.422472  1.516152    0.002809  0.063202  8.082865\n",
       "    E     6.590934e+05  244.628924  1.658585    0.002621  0.068152  8.452163\n",
       "    F     4.543173e+05  201.446885  1.600858    0.000000  0.085837  7.454936\n",
       "    G     3.477000e+05  124.490074  1.500000    0.000000  0.000000  5.500000\n",
       "    H              NaN         NaN       NaN         NaN       NaN       NaN\n",
       "    I              NaN         NaN       NaN         NaN       NaN       NaN\n",
       "    J     1.725000e+05   88.257888  1.250000    0.000000  1.000000  6.000000\n",
       "    K     2.251429e+05  125.750901  1.535714    0.000000  0.000000  6.500000"
      ]
     },
     "execution_count": 24,
     "metadata": {},
     "output_type": "execute_result"
    }
   ],
   "source": [
    "house_data2.groupby(by=['lat','long']).mean()"
   ]
  },
  {
   "cell_type": "markdown",
   "metadata": {},
   "source": [
    "Podemos ver cómo en el sector 4 y 5 de la ciudad (que buscando las coordenadas en un mapa se corresponde con la parte norte de ésta), tiene viviendas de un precio mucho más elevado que en otros sectores. En general también se ven  diferencias en cuanto al este y oeste de la ciudad dentro de una misma latitud. Podemos cocluir que el precio de las viviendas es mayor o menor en gran parte por su ubicación.\n",
    "Por tanto será necesario conservar ambas variables a pesar de que la longitud en principio tenga una correlación baja."
   ]
  },
  {
   "cell_type": "markdown",
   "metadata": {},
   "source": [
    "En los siguientes box plots se observa como claramente hay sectores donde los precios son mucho mayores que en otros, como hemos comentado antes, se ve en el sector 4 y 5 en el caso de la latitud. En cambio en la longitud vemos que la zona C tiene precios mucho mayores que la zona F por ejemplo."
   ]
  },
  {
   "cell_type": "code",
   "execution_count": 25,
   "metadata": {},
   "outputs": [
    {
     "data": {
      "text/plain": [
       "<matplotlib.axes._subplots.AxesSubplot at 0x7ff5f7e1feb0>"
      ]
     },
     "execution_count": 25,
     "metadata": {},
     "output_type": "execute_result"
    },
    {
     "data": {
      "image/png": "[encoded data removed]",
      "text/plain": [
       "<Figure size 1080x360 with 1 Axes>"
      ]
     },
     "metadata": {},
     "output_type": "display_data"
    }
   ],
   "source": [
    "plt.figure(figsize=(15,5))\n",
    "sns.boxplot(x='lat',y='price',data=house_data2)"
   ]
  },
  {
   "cell_type": "code",
   "execution_count": 26,
   "metadata": {},
   "outputs": [
    {
     "data": {
      "text/plain": [
       "<matplotlib.axes._subplots.AxesSubplot at 0x7ff5f95cf100>"
      ]
     },
     "execution_count": 26,
     "metadata": {},
     "output_type": "execute_result"
    },
    {
     "data": {
      "image/png": "[encoded data removed]",
      "text/plain": [
       "<Figure size 1080x360 with 1 Axes>"
      ]
     },
     "metadata": {},
     "output_type": "display_data"
    }
   ],
   "source": [
    "plt.figure(figsize=(15,5))\n",
    "sns.boxplot(x='long',y='price',data=house_data2)"
   ]
  },
  {
   "cell_type": "markdown",
   "metadata": {},
   "source": [
    "Este será el nuevo dataset con el trabajaremos de cara a los modelos una vez hecha la limpieza de variables:"
   ]
  },
  {
   "cell_type": "code",
   "execution_count": 27,
   "metadata": {},
   "outputs": [
    {
     "data": {
      "text/html": [
       "<div>\n",
       "<style scoped>\n",
       "    .dataframe tbody tr th:only-of-type {\n",
       "        vertical-align: middle;\n",
       "    }\n",
       "\n",
       "    .dataframe tbody tr th {\n",
       "        vertical-align: top;\n",
       "    }\n",
       "\n",
       "    .dataframe thead th {\n",
       "        text-align: right;\n",
       "    }\n",
       "</style>\n",
       "<table border=\"1\" class=\"dataframe\">\n",
       "  <thead>\n",
       "    <tr style=\"text-align: right;\">\n",
       "      <th></th>\n",
       "      <th>price</th>\n",
       "      <th>sqm_living</th>\n",
       "      <th>floors</th>\n",
       "      <th>waterfront</th>\n",
       "      <th>view</th>\n",
       "      <th>grade</th>\n",
       "      <th>lat</th>\n",
       "      <th>long</th>\n",
       "    </tr>\n",
       "  </thead>\n",
       "  <tbody>\n",
       "    <tr>\n",
       "      <th>0</th>\n",
       "      <td>221900.0</td>\n",
       "      <td>109.625587</td>\n",
       "      <td>1.0</td>\n",
       "      <td>0</td>\n",
       "      <td>0</td>\n",
       "      <td>7</td>\n",
       "      <td>47.5112</td>\n",
       "      <td>-122.257</td>\n",
       "    </tr>\n",
       "    <tr>\n",
       "      <th>1</th>\n",
       "      <td>538000.0</td>\n",
       "      <td>238.760813</td>\n",
       "      <td>2.0</td>\n",
       "      <td>0</td>\n",
       "      <td>0</td>\n",
       "      <td>7</td>\n",
       "      <td>47.7210</td>\n",
       "      <td>-122.319</td>\n",
       "    </tr>\n",
       "    <tr>\n",
       "      <th>2</th>\n",
       "      <td>180000.0</td>\n",
       "      <td>71.535341</td>\n",
       "      <td>1.0</td>\n",
       "      <td>0</td>\n",
       "      <td>0</td>\n",
       "      <td>6</td>\n",
       "      <td>47.7379</td>\n",
       "      <td>-122.233</td>\n",
       "    </tr>\n",
       "    <tr>\n",
       "      <th>4</th>\n",
       "      <td>510000.0</td>\n",
       "      <td>156.077107</td>\n",
       "      <td>1.0</td>\n",
       "      <td>0</td>\n",
       "      <td>0</td>\n",
       "      <td>8</td>\n",
       "      <td>47.6168</td>\n",
       "      <td>-122.045</td>\n",
       "    </tr>\n",
       "    <tr>\n",
       "      <th>6</th>\n",
       "      <td>257500.0</td>\n",
       "      <td>159.328714</td>\n",
       "      <td>2.0</td>\n",
       "      <td>0</td>\n",
       "      <td>0</td>\n",
       "      <td>7</td>\n",
       "      <td>47.3097</td>\n",
       "      <td>-122.327</td>\n",
       "    </tr>\n",
       "  </tbody>\n",
       "</table>\n",
       "</div>"
      ],
      "text/plain": [
       "      price  sqm_living  floors  waterfront  view  grade      lat     long\n",
       "0  221900.0  109.625587     1.0           0     0      7  47.5112 -122.257\n",
       "1  538000.0  238.760813     2.0           0     0      7  47.7210 -122.319\n",
       "2  180000.0   71.535341     1.0           0     0      6  47.7379 -122.233\n",
       "4  510000.0  156.077107     1.0           0     0      8  47.6168 -122.045\n",
       "6  257500.0  159.328714     2.0           0     0      7  47.3097 -122.327"
      ]
     },
     "execution_count": 27,
     "metadata": {},
     "output_type": "execute_result"
    }
   ],
   "source": [
    "house_data.head()"
   ]
  },
  {
   "cell_type": "markdown",
   "metadata": {},
   "source": [
    "# 4. Datos de train y test"
   ]
  },
  {
   "cell_type": "markdown",
   "metadata": {},
   "source": [
    "En primer lugar creamos los subconjuntos de train y test para poder entrenar el modelo:"
   ]
  },
  {
   "cell_type": "markdown",
   "metadata": {},
   "source": [
    "Para la `X` tomamos las columnas asociadas a la variables que nos hemos quedado en la tabla final.\n",
    "\n",
    "`y` será la variable a predecir: `price`"
   ]
  },
  {
   "cell_type": "code",
   "execution_count": 28,
   "metadata": {},
   "outputs": [],
   "source": [
    "Price=house_data['price'].values\n",
    "X=house_data.iloc[:,[1,2,3,4,5,6,7]].values\n",
    "y=Price"
   ]
  },
  {
   "cell_type": "markdown",
   "metadata": {},
   "source": [
    "Haremos una subdivisión con un train del 80% y un test del 20%"
   ]
  },
  {
   "cell_type": "code",
   "execution_count": 29,
   "metadata": {},
   "outputs": [],
   "source": [
    "from sklearn.model_selection import train_test_split\n",
    "\n",
    "X_train, X_test, y_train, y_test = train_test_split(X, y, test_size=0.2, random_state=0)"
   ]
  },
  {
   "cell_type": "code",
   "execution_count": 30,
   "metadata": {},
   "outputs": [
    {
     "data": {
      "text/plain": [
       "((17286, 7), (4322, 7))"
      ]
     },
     "execution_count": 30,
     "metadata": {},
     "output_type": "execute_result"
    }
   ],
   "source": [
    "X_train.shape,X_test.shape"
   ]
  },
  {
   "cell_type": "markdown",
   "metadata": {},
   "source": [
    "# 5. Algoritmos de Clasificación"
   ]
  },
  {
   "cell_type": "markdown",
   "metadata": {},
   "source": [
    "A continuación vamos a llevar a cabo los algoritmos de clasificación, donde inlcuiremos en cada uno de ellos las métricas elegidas. Además utilizando el comando `.score` veremos cómo de bueno ha sido el entrenamiento en cada modelo."
   ]
  },
  {
   "cell_type": "markdown",
   "metadata": {},
   "source": [
    "En primer lugar estandarizamos las variables para los métodos en los que sea necesario, e importamos las librerías para las diferentes métricas que posteriormente utilizaremos en cada uno de ellos."
   ]
  },
  {
   "cell_type": "code",
   "execution_count": 31,
   "metadata": {},
   "outputs": [],
   "source": [
    "from sklearn.preprocessing import StandardScaler\n",
    "sc = StandardScaler()\n",
    "X_train = sc.fit_transform(X_train)\n",
    "X_test = sc.transform(X_test)"
   ]
  },
  {
   "cell_type": "markdown",
   "metadata": {},
   "source": [
    "Estás son las métricas elegidas, las cuales explicamos brevemente antes de su uso para facilitar su interpretación:"
   ]
  },
  {
   "cell_type": "code",
   "execution_count": 32,
   "metadata": {},
   "outputs": [],
   "source": [
    "from sklearn.metrics import r2_score\n",
    "from sklearn.metrics import mean_absolute_error\n",
    "from sklearn.metrics import mean_squared_error\n",
    "from sklearn.metrics import mean_absolute_percentage_error\n",
    "from sklearn.metrics import max_error\n",
    "import math"
   ]
  },
  {
   "cell_type": "markdown",
   "metadata": {},
   "source": [
    "#### R² Score"
   ]
  },
  {
   "cell_type": "markdown",
   "metadata": {},
   "source": [
    "El R² score es el coeficiente de determinación, que mide la bondad de ajuste del modelo, es decir, mide lo bien que un modelo de regresión se ajusta a los datos reales.\n",
    "El resultado del coeficiente oscila entre 0 y 1. Cuanto más cerca de 1 se sitúe su valor, mayor será el ajuste del modelo a la variable que estamos intentando explicar. De forma inversa, cuanto más cerca de cero, menos ajustado estará el modelo y, por tanto, menos fiable será. \n",
    "**Esta métrica solo se puede utilizar para modelos lineales por tanto solo la añadiremos al modelo de regresión lineal.**"
   ]
  },
  {
   "cell_type": "markdown",
   "metadata": {},
   "source": [
    "#### MAE"
   ]
  },
  {
   "cell_type": "markdown",
   "metadata": {},
   "source": [
    "El error absoluto medio es el promedio de la diferencia absoluta entre el valor observado y los valores predichos. \n",
    "El error se calcula como un promedio de diferencias absolutas entre los valores objetivo y las predicciones. Es una puntuación lineal, lo que significa que todas las diferencias individuales se ponderan por igual en el promedio.\n",
    "Por tanto cuanto menor sea este valor mejor será el modelo."
   ]
  },
  {
   "cell_type": "markdown",
   "metadata": {},
   "source": [
    "#### MSE"
   ]
  },
  {
   "cell_type": "markdown",
   "metadata": {},
   "source": [
    "MSE básicamente mide el error cuadrado promedio de nuestras predicciones. Para cada punto, calcula la diferencia cuadrada entre las predicciones y el objetivo y luego promedia esos valores.\n",
    "Cuanto mayor sea este valor, peor es el modelo. Nunca es negativo, ya que estamos cuadrando los errores de predicción individuales antes de sumarlos, pero sería cero para un modelo perfecto."
   ]
  },
  {
   "cell_type": "markdown",
   "metadata": {},
   "source": [
    "#### RMSE"
   ]
  },
  {
   "cell_type": "markdown",
   "metadata": {},
   "source": [
    "Se calcula tomando la raíz cuadrada de MSE. Es conocida también como la desviación cuadrática media. Mide la magnitud promedio de los errores y se ocupa de las desviaciones del valor real.\n",
    "Cuanto menor sea el RMSE, mejor será el modelo y sus predicciones."
   ]
  },
  {
   "cell_type": "markdown",
   "metadata": {},
   "source": [
    "#### MAPE"
   ]
  },
  {
   "cell_type": "markdown",
   "metadata": {},
   "source": [
    "El error porcentual absoluto medio (MAPE) expresa la exactitud como un porcentaje del error. Debido a que el MAPE es un porcentaje, puede ser más fácil de interpretar que otros estadísticos de medición. Por ejemplo, si el MAPE es 5, en promedio, el pronóstico está equivocado en un 5%. De forma general se considera un buen valor de MAPE si se encuentra por debajo del 20%."
   ]
  },
  {
   "cell_type": "markdown",
   "metadata": {},
   "source": [
    "#### MAX ERROR"
   ]
  },
  {
   "cell_type": "markdown",
   "metadata": {},
   "source": [
    "Esta métrica nos da el máximo error entre el dato real y la predicción. Es una buena referencia para saber en el peor de los casos, cuánto varía la estimación del valor real."
   ]
  },
  {
   "cell_type": "markdown",
   "metadata": {},
   "source": [
    "## Regresión lineal"
   ]
  },
  {
   "cell_type": "code",
   "execution_count": 33,
   "metadata": {},
   "outputs": [],
   "source": [
    "from sklearn.linear_model import LinearRegression\n",
    "regresor= LinearRegression()\n",
    "regresor.fit(X_train, y_train)\n",
    "y_pred=regresor.predict(X_test)"
   ]
  },
  {
   "cell_type": "code",
   "execution_count": 34,
   "metadata": {},
   "outputs": [
    {
     "data": {
      "text/plain": [
       "0.6638870926861489"
      ]
     },
     "execution_count": 34,
     "metadata": {},
     "output_type": "execute_result"
    }
   ],
   "source": [
    "regresor.score(X_train,y_train)"
   ]
  },
  {
   "cell_type": "code",
   "execution_count": 35,
   "metadata": {},
   "outputs": [
    {
     "data": {
      "text/plain": [
       "0.6542244187175976"
      ]
     },
     "execution_count": 35,
     "metadata": {},
     "output_type": "execute_result"
    }
   ],
   "source": [
    "regresor.score(X_test,y_test)"
   ]
  },
  {
   "cell_type": "code",
   "execution_count": 36,
   "metadata": {},
   "outputs": [
    {
     "name": "stdout",
     "output_type": "stream",
     "text": [
      "r2_score:  0.6542244187175976\n"
     ]
    }
   ],
   "source": [
    "r2=r2_score(y_test,y_pred)\n",
    "print('r2_score: ', r2)"
   ]
  },
  {
   "cell_type": "code",
   "execution_count": 37,
   "metadata": {},
   "outputs": [
    {
     "name": "stdout",
     "output_type": "stream",
     "text": [
      "0.6536633549556652\n"
     ]
    }
   ],
   "source": [
    "# R2 Ajustado\n",
    "n = len(y_test) # Cantidad de Filas del test\n",
    "k = X_test.shape[1] #Cantidad de Columnas (variables independientes)\n",
    "r2_adj = 1-((1-r2)*(n-1)/(n-k-1))\n",
    "print(r2_adj)"
   ]
  },
  {
   "cell_type": "code",
   "execution_count": 38,
   "metadata": {},
   "outputs": [
    {
     "data": {
      "text/plain": [
       "135317.50264774577"
      ]
     },
     "execution_count": 38,
     "metadata": {},
     "output_type": "execute_result"
    }
   ],
   "source": [
    "mae=mean_absolute_error(y_test,y_pred)\n",
    "mae"
   ]
  },
  {
   "cell_type": "code",
   "execution_count": 39,
   "metadata": {},
   "outputs": [
    {
     "data": {
      "text/plain": [
       "0.266676572080253"
      ]
     },
     "execution_count": 39,
     "metadata": {},
     "output_type": "execute_result"
    }
   ],
   "source": [
    "mape = mean_absolute_percentage_error(y_test, y_pred)\n",
    "mape"
   ]
  },
  {
   "cell_type": "code",
   "execution_count": 40,
   "metadata": {},
   "outputs": [
    {
     "data": {
      "text/plain": [
       "46906572681.47991"
      ]
     },
     "execution_count": 40,
     "metadata": {},
     "output_type": "execute_result"
    }
   ],
   "source": [
    "mse=mean_squared_error(y_test,y_pred)\n",
    "mse"
   ]
  },
  {
   "cell_type": "code",
   "execution_count": 41,
   "metadata": {},
   "outputs": [
    {
     "data": {
      "text/plain": [
       "216579.25265703525"
      ]
     },
     "execution_count": 41,
     "metadata": {},
     "output_type": "execute_result"
    }
   ],
   "source": [
    "RMSE = math.sqrt(mse)\n",
    "RMSE"
   ]
  },
  {
   "cell_type": "code",
   "execution_count": 42,
   "metadata": {},
   "outputs": [
    {
     "data": {
      "text/plain": [
       "2774087.607673023"
      ]
     },
     "execution_count": 42,
     "metadata": {},
     "output_type": "execute_result"
    }
   ],
   "source": [
    "max_e=max_error(y_test, y_pred)\n",
    "max_e"
   ]
  },
  {
   "cell_type": "markdown",
   "metadata": {},
   "source": [
    "## KNN"
   ]
  },
  {
   "cell_type": "code",
   "execution_count": 43,
   "metadata": {},
   "outputs": [],
   "source": [
    "from sklearn.neighbors import KNeighborsRegressor\n",
    "knn = KNeighborsRegressor(n_neighbors=10,metric='manhattan')\n",
    "knn.fit(X_train, y_train)\n",
    "y_pred = knn.predict(X_test)"
   ]
  },
  {
   "cell_type": "code",
   "execution_count": 44,
   "metadata": {},
   "outputs": [
    {
     "data": {
      "text/plain": [
       "0.8662790884914542"
      ]
     },
     "execution_count": 44,
     "metadata": {},
     "output_type": "execute_result"
    }
   ],
   "source": [
    "knn.score(X_train,y_train)"
   ]
  },
  {
   "cell_type": "code",
   "execution_count": 45,
   "metadata": {},
   "outputs": [
    {
     "data": {
      "text/plain": [
       "0.8393849028577082"
      ]
     },
     "execution_count": 45,
     "metadata": {},
     "output_type": "execute_result"
    }
   ],
   "source": [
    "knn.score(X_test,y_test)"
   ]
  },
  {
   "cell_type": "code",
   "execution_count": 46,
   "metadata": {},
   "outputs": [
    {
     "data": {
      "text/plain": [
       "80807.7689495604"
      ]
     },
     "execution_count": 46,
     "metadata": {},
     "output_type": "execute_result"
    }
   ],
   "source": [
    "mae=mean_absolute_error(y_test,y_pred)\n",
    "mae"
   ]
  },
  {
   "cell_type": "code",
   "execution_count": 47,
   "metadata": {},
   "outputs": [
    {
     "data": {
      "text/plain": [
       "0.14821465318623298"
      ]
     },
     "execution_count": 47,
     "metadata": {},
     "output_type": "execute_result"
    }
   ],
   "source": [
    "mape = mean_absolute_percentage_error(y_test, y_pred)\n",
    "mape"
   ]
  },
  {
   "cell_type": "code",
   "execution_count": 48,
   "metadata": {},
   "outputs": [
    {
     "data": {
      "text/plain": [
       "21788420396.56573"
      ]
     },
     "execution_count": 48,
     "metadata": {},
     "output_type": "execute_result"
    }
   ],
   "source": [
    "mse=mean_squared_error(y_test,y_pred)\n",
    "mse"
   ]
  },
  {
   "cell_type": "code",
   "execution_count": 49,
   "metadata": {},
   "outputs": [
    {
     "data": {
      "text/plain": [
       "147609.0119083714"
      ]
     },
     "execution_count": 49,
     "metadata": {},
     "output_type": "execute_result"
    }
   ],
   "source": [
    "RMSE = math.sqrt(mse)\n",
    "RMSE"
   ]
  },
  {
   "cell_type": "code",
   "execution_count": 50,
   "metadata": {},
   "outputs": [
    {
     "data": {
      "text/plain": [
       "2249970.0"
      ]
     },
     "execution_count": 50,
     "metadata": {},
     "output_type": "execute_result"
    }
   ],
   "source": [
    "max_e=max_error(y_test, y_pred)\n",
    "max_e"
   ]
  },
  {
   "cell_type": "markdown",
   "metadata": {},
   "source": [
    "## Árbol de decisión"
   ]
  },
  {
   "cell_type": "code",
   "execution_count": 51,
   "metadata": {},
   "outputs": [],
   "source": [
    "from sklearn.tree import DecisionTreeRegressor\n",
    "arbol = DecisionTreeRegressor(max_depth=8)\n",
    "arbol.fit(X_train,y_train)\n",
    "y_pred = arbol.predict(X_test)"
   ]
  },
  {
   "cell_type": "code",
   "execution_count": 52,
   "metadata": {},
   "outputs": [
    {
     "data": {
      "text/plain": [
       "0.858774783627144"
      ]
     },
     "execution_count": 52,
     "metadata": {},
     "output_type": "execute_result"
    }
   ],
   "source": [
    "arbol.score(X_train,y_train)"
   ]
  },
  {
   "cell_type": "code",
   "execution_count": 53,
   "metadata": {},
   "outputs": [
    {
     "data": {
      "text/plain": [
       "0.829312526380757"
      ]
     },
     "execution_count": 53,
     "metadata": {},
     "output_type": "execute_result"
    }
   ],
   "source": [
    "arbol.score(X_test,y_test)"
   ]
  },
  {
   "cell_type": "code",
   "execution_count": 54,
   "metadata": {},
   "outputs": [
    {
     "data": {
      "text/plain": [
       "92173.18405967715"
      ]
     },
     "execution_count": 54,
     "metadata": {},
     "output_type": "execute_result"
    }
   ],
   "source": [
    "mae=mean_absolute_error(y_test,y_pred)\n",
    "mae"
   ]
  },
  {
   "cell_type": "code",
   "execution_count": 55,
   "metadata": {},
   "outputs": [
    {
     "data": {
      "text/plain": [
       "0.17410107071109404"
      ]
     },
     "execution_count": 55,
     "metadata": {},
     "output_type": "execute_result"
    }
   ],
   "source": [
    "mape = mean_absolute_percentage_error(y_test, y_pred)\n",
    "mape"
   ]
  },
  {
   "cell_type": "code",
   "execution_count": 56,
   "metadata": {},
   "outputs": [
    {
     "data": {
      "text/plain": [
       "23154799877.55479"
      ]
     },
     "execution_count": 56,
     "metadata": {},
     "output_type": "execute_result"
    }
   ],
   "source": [
    "mse=mean_squared_error(y_test,y_pred)\n",
    "mse"
   ]
  },
  {
   "cell_type": "code",
   "execution_count": 57,
   "metadata": {},
   "outputs": [
    {
     "data": {
      "text/plain": [
       "152167.01310584627"
      ]
     },
     "execution_count": 57,
     "metadata": {},
     "output_type": "execute_result"
    }
   ],
   "source": [
    "RMSE = math.sqrt(mse)\n",
    "RMSE"
   ]
  },
  {
   "cell_type": "code",
   "execution_count": 58,
   "metadata": {},
   "outputs": [
    {
     "data": {
      "text/plain": [
       "1501403.5"
      ]
     },
     "execution_count": 58,
     "metadata": {},
     "output_type": "execute_result"
    }
   ],
   "source": [
    "max_e=max_error(y_test, y_pred)\n",
    "max_e"
   ]
  },
  {
   "cell_type": "markdown",
   "metadata": {},
   "source": [
    "## Bagging"
   ]
  },
  {
   "cell_type": "code",
   "execution_count": 59,
   "metadata": {},
   "outputs": [],
   "source": [
    "from sklearn.ensemble import BaggingRegressor\n",
    "bag=BaggingRegressor(base_estimator=None, n_estimators=10)\n",
    "bag.fit(X_train,y_train)\n",
    "y_pred = bag.predict(X_test)"
   ]
  },
  {
   "cell_type": "code",
   "execution_count": 60,
   "metadata": {},
   "outputs": [
    {
     "data": {
      "text/plain": [
       "0.9759856177040025"
      ]
     },
     "execution_count": 60,
     "metadata": {},
     "output_type": "execute_result"
    }
   ],
   "source": [
    "bag.score(X_train,y_train)"
   ]
  },
  {
   "cell_type": "code",
   "execution_count": 61,
   "metadata": {},
   "outputs": [
    {
     "data": {
      "text/plain": [
       "0.8731085837238612"
      ]
     },
     "execution_count": 61,
     "metadata": {},
     "output_type": "execute_result"
    }
   ],
   "source": [
    "bag.score(X_test,y_test)"
   ]
  },
  {
   "cell_type": "code",
   "execution_count": 62,
   "metadata": {},
   "outputs": [
    {
     "data": {
      "text/plain": [
       "75083.3120121857"
      ]
     },
     "execution_count": 62,
     "metadata": {},
     "output_type": "execute_result"
    }
   ],
   "source": [
    "mae=mean_absolute_error(y_test,y_pred)\n",
    "mae"
   ]
  },
  {
   "cell_type": "code",
   "execution_count": 63,
   "metadata": {},
   "outputs": [
    {
     "data": {
      "text/plain": [
       "0.14211706722492434"
      ]
     },
     "execution_count": 63,
     "metadata": {},
     "output_type": "execute_result"
    }
   ],
   "source": [
    "mape = mean_absolute_percentage_error(y_test, y_pred)\n",
    "mape"
   ]
  },
  {
   "cell_type": "code",
   "execution_count": 64,
   "metadata": {},
   "outputs": [
    {
     "data": {
      "text/plain": [
       "17213596802.11618"
      ]
     },
     "execution_count": 64,
     "metadata": {},
     "output_type": "execute_result"
    }
   ],
   "source": [
    "mse=mean_squared_error(y_test,y_pred)\n",
    "mse"
   ]
  },
  {
   "cell_type": "code",
   "execution_count": 65,
   "metadata": {},
   "outputs": [
    {
     "data": {
      "text/plain": [
       "131200.59756767948"
      ]
     },
     "execution_count": 65,
     "metadata": {},
     "output_type": "execute_result"
    }
   ],
   "source": [
    "RMSE = math.sqrt(mse)\n",
    "RMSE"
   ]
  },
  {
   "cell_type": "code",
   "execution_count": 66,
   "metadata": {},
   "outputs": [
    {
     "data": {
      "text/plain": [
       "1504300.0"
      ]
     },
     "execution_count": 66,
     "metadata": {},
     "output_type": "execute_result"
    }
   ],
   "source": [
    "max_e=max_error(y_test, y_pred)\n",
    "max_e"
   ]
  },
  {
   "cell_type": "markdown",
   "metadata": {},
   "source": [
    "## Random Forest"
   ]
  },
  {
   "cell_type": "code",
   "execution_count": 67,
   "metadata": {},
   "outputs": [],
   "source": [
    "from sklearn.ensemble import RandomForestRegressor\n",
    "RF = RandomForestRegressor(n_estimators=100, random_state=0)\n",
    "RF.fit(X_train, y_train)\n",
    "y_pred = RF.predict(X_test)"
   ]
  },
  {
   "cell_type": "code",
   "execution_count": 68,
   "metadata": {},
   "outputs": [
    {
     "data": {
      "text/plain": [
       "0.9815573665716123"
      ]
     },
     "execution_count": 68,
     "metadata": {},
     "output_type": "execute_result"
    }
   ],
   "source": [
    "RF.score(X_train,y_train)"
   ]
  },
  {
   "cell_type": "code",
   "execution_count": 69,
   "metadata": {},
   "outputs": [
    {
     "data": {
      "text/plain": [
       "0.887062379441023"
      ]
     },
     "execution_count": 69,
     "metadata": {},
     "output_type": "execute_result"
    }
   ],
   "source": [
    "RF.score(X_test,y_test)"
   ]
  },
  {
   "cell_type": "code",
   "execution_count": 70,
   "metadata": {},
   "outputs": [
    {
     "data": {
      "text/plain": [
       "70999.74169205726"
      ]
     },
     "execution_count": 70,
     "metadata": {},
     "output_type": "execute_result"
    }
   ],
   "source": [
    "mae=mean_absolute_error(y_test,y_pred)\n",
    "mae"
   ]
  },
  {
   "cell_type": "code",
   "execution_count": 71,
   "metadata": {},
   "outputs": [
    {
     "data": {
      "text/plain": [
       "0.13495325681920423"
      ]
     },
     "execution_count": 71,
     "metadata": {},
     "output_type": "execute_result"
    }
   ],
   "source": [
    "mape = mean_absolute_percentage_error(y_test, y_pred)\n",
    "mape"
   ]
  },
  {
   "cell_type": "code",
   "execution_count": 72,
   "metadata": {},
   "outputs": [
    {
     "data": {
      "text/plain": [
       "15320679058.873331"
      ]
     },
     "execution_count": 72,
     "metadata": {},
     "output_type": "execute_result"
    }
   ],
   "source": [
    "mse=mean_squared_error(y_test,y_pred)\n",
    "mse"
   ]
  },
  {
   "cell_type": "code",
   "execution_count": 73,
   "metadata": {},
   "outputs": [
    {
     "data": {
      "text/plain": [
       "123776.73068421759"
      ]
     },
     "execution_count": 73,
     "metadata": {},
     "output_type": "execute_result"
    }
   ],
   "source": [
    "RMSE = math.sqrt(mse)\n",
    "RMSE"
   ]
  },
  {
   "cell_type": "code",
   "execution_count": 74,
   "metadata": {},
   "outputs": [
    {
     "data": {
      "text/plain": [
       "1830848.0"
      ]
     },
     "execution_count": 74,
     "metadata": {},
     "output_type": "execute_result"
    }
   ],
   "source": [
    "max_e=max_error(y_test, y_pred)\n",
    "max_e"
   ]
  },
  {
   "cell_type": "markdown",
   "metadata": {},
   "source": [
    "## Gradient Boost"
   ]
  },
  {
   "cell_type": "code",
   "execution_count": 75,
   "metadata": {},
   "outputs": [],
   "source": [
    "from sklearn.ensemble import GradientBoostingRegressor\n",
    "gradb = GradientBoostingRegressor(random_state=0)\n",
    "gradb.fit(X_train, y_train)\n",
    "y_pred =gradb.predict(X_test)"
   ]
  },
  {
   "cell_type": "code",
   "execution_count": 76,
   "metadata": {},
   "outputs": [
    {
     "data": {
      "text/plain": [
       "0.885021844963377"
      ]
     },
     "execution_count": 76,
     "metadata": {},
     "output_type": "execute_result"
    }
   ],
   "source": [
    "gradb.score(X_train,y_train)"
   ]
  },
  {
   "cell_type": "code",
   "execution_count": 77,
   "metadata": {},
   "outputs": [
    {
     "data": {
      "text/plain": [
       "0.8655426181783034"
      ]
     },
     "execution_count": 77,
     "metadata": {},
     "output_type": "execute_result"
    }
   ],
   "source": [
    "gradb.score(X_test,y_test)"
   ]
  },
  {
   "cell_type": "code",
   "execution_count": 78,
   "metadata": {},
   "outputs": [
    {
     "data": {
      "text/plain": [
       "81677.94180064081"
      ]
     },
     "execution_count": 78,
     "metadata": {},
     "output_type": "execute_result"
    }
   ],
   "source": [
    "mae=mean_absolute_error(y_test,y_pred)\n",
    "mae"
   ]
  },
  {
   "cell_type": "code",
   "execution_count": 79,
   "metadata": {},
   "outputs": [
    {
     "data": {
      "text/plain": [
       "0.15571605618606504"
      ]
     },
     "execution_count": 79,
     "metadata": {},
     "output_type": "execute_result"
    }
   ],
   "source": [
    "mape = mean_absolute_percentage_error(y_test, y_pred)\n",
    "mape"
   ]
  },
  {
   "cell_type": "code",
   "execution_count": 80,
   "metadata": {},
   "outputs": [
    {
     "data": {
      "text/plain": [
       "18239966308.754173"
      ]
     },
     "execution_count": 80,
     "metadata": {},
     "output_type": "execute_result"
    }
   ],
   "source": [
    "mse=mean_squared_error(y_test,y_pred)\n",
    "mse"
   ]
  },
  {
   "cell_type": "code",
   "execution_count": 81,
   "metadata": {},
   "outputs": [
    {
     "data": {
      "text/plain": [
       "135055.4193979426"
      ]
     },
     "execution_count": 81,
     "metadata": {},
     "output_type": "execute_result"
    }
   ],
   "source": [
    "RMSE = math.sqrt(mse)\n",
    "RMSE"
   ]
  },
  {
   "cell_type": "code",
   "execution_count": 82,
   "metadata": {},
   "outputs": [
    {
     "data": {
      "text/plain": [
       "1539957.49551126"
      ]
     },
     "execution_count": 82,
     "metadata": {},
     "output_type": "execute_result"
    }
   ],
   "source": [
    "max_e=max_error(y_test, y_pred)\n",
    "max_e"
   ]
  },
  {
   "cell_type": "markdown",
   "metadata": {},
   "source": [
    "## XGBoost"
   ]
  },
  {
   "cell_type": "code",
   "execution_count": 83,
   "metadata": {},
   "outputs": [
    {
     "name": "stdout",
     "output_type": "stream",
     "text": [
      "[14:50:41] WARNING: /Users/runner/work/xgboost/xgboost/python-package/build/temp.macosx-10.9-x86_64-cpython-38/xgboost/src/objective/regression_obj.cu:213: reg:linear is now deprecated in favor of reg:squarederror.\n"
     ]
    }
   ],
   "source": [
    "import xgboost as xgb\n",
    "import numpy as np\n",
    "xgb_model = xgb.XGBRegressor(objective=\"reg:linear\", random_state=42)\n",
    "xgb_model.fit(X_train, y_train)\n",
    "y_pred = xgb_model.predict(X_test)"
   ]
  },
  {
   "cell_type": "code",
   "execution_count": 84,
   "metadata": {},
   "outputs": [
    {
     "data": {
      "text/plain": [
       "0.8919011830096579"
      ]
     },
     "execution_count": 84,
     "metadata": {},
     "output_type": "execute_result"
    }
   ],
   "source": [
    "xgb_model.score(X_test,y_test)"
   ]
  },
  {
   "cell_type": "code",
   "execution_count": 85,
   "metadata": {},
   "outputs": [
    {
     "data": {
      "text/plain": [
       "0.8919011830096579"
      ]
     },
     "execution_count": 85,
     "metadata": {},
     "output_type": "execute_result"
    }
   ],
   "source": [
    "xgb_model.score(X_test,y_test)"
   ]
  },
  {
   "cell_type": "code",
   "execution_count": 86,
   "metadata": {},
   "outputs": [
    {
     "data": {
      "text/plain": [
       "70673.75074112101"
      ]
     },
     "execution_count": 86,
     "metadata": {},
     "output_type": "execute_result"
    }
   ],
   "source": [
    "mae=mean_absolute_error(y_test,y_pred)\n",
    "mae"
   ]
  },
  {
   "cell_type": "code",
   "execution_count": 87,
   "metadata": {},
   "outputs": [
    {
     "data": {
      "text/plain": [
       "0.13428996971072296"
      ]
     },
     "execution_count": 87,
     "metadata": {},
     "output_type": "execute_result"
    }
   ],
   "source": [
    "mape = mean_absolute_percentage_error(y_test, y_pred)\n",
    "mape"
   ]
  },
  {
   "cell_type": "code",
   "execution_count": 88,
   "metadata": {},
   "outputs": [
    {
     "data": {
      "text/plain": [
       "14664265756.22832"
      ]
     },
     "execution_count": 88,
     "metadata": {},
     "output_type": "execute_result"
    }
   ],
   "source": [
    "mse=mean_squared_error(y_test,y_pred)\n",
    "mse"
   ]
  },
  {
   "cell_type": "code",
   "execution_count": 89,
   "metadata": {},
   "outputs": [
    {
     "data": {
      "text/plain": [
       "121096.10132546927"
      ]
     },
     "execution_count": 89,
     "metadata": {},
     "output_type": "execute_result"
    }
   ],
   "source": [
    "RMSE = math.sqrt(mse)\n",
    "RMSE"
   ]
  },
  {
   "cell_type": "code",
   "execution_count": 90,
   "metadata": {},
   "outputs": [
    {
     "data": {
      "text/plain": [
       "1892391.0"
      ]
     },
     "execution_count": 90,
     "metadata": {},
     "output_type": "execute_result"
    }
   ],
   "source": [
    "max_e=max_error(y_test, y_pred)\n",
    "max_e"
   ]
  },
  {
   "cell_type": "markdown",
   "metadata": {},
   "source": [
    "# 6. Elección final de la métrica"
   ]
  },
  {
   "cell_type": "markdown",
   "metadata": {},
   "source": [
    "Observando los resultados de las distintas métricas en cada uno de los modelos debemos decantarnos por la que creamos más conveniente. Haremos las comparaciones a continuación para tomar una decisión teniendo en cuenta las ventajas y desventajas de cada una."
   ]
  },
  {
   "cell_type": "markdown",
   "metadata": {},
   "source": [
    "## Métrica elegida"
   ]
  },
  {
   "cell_type": "markdown",
   "metadata": {},
   "source": [
    "### MAPE"
   ]
  },
  {
   "cell_type": "markdown",
   "metadata": {},
   "source": [
    "Nos quedamos con la métrica `MAPE` (Error porcentual absoluto medio) que mide el tamaño del error en términos porcentuales.\n",
    "\n",
    "Aun así es un valor que proviene del `MAE`, veamos sus diferencias y por qué es preferible la elección del `MAPE` antes que del `MAE`.\n",
    "\n",
    "**Similitudes**\n",
    "\n",
    "Dado que `MAPE` es un desarrollo posterior del cálculo `MAE`, existen algunas **similitudes clave entre ellas**:\n",
    "\n",
    "- Ambas no son sensibles a los valores atípicos ya que usan la diferencia absoluta.\n",
    "- Ambas son ampliamente utilizadas y se implementan fácilmente en Python usando sklearn.\n",
    "\n",
    "**Diferencias**\n",
    "\n",
    "Si bien se basan en un cálculo similar, `MAE` y `MAPE` tienen algunas **diferencias que podrían ser importantes**:\n",
    "\n",
    "- `MAPE` es más fácil de comprender que `MAE` ya que se da como un porcentaje.\n",
    "\n",
    "- `MAE` varía en escala según el objetivo que esté prediciendo, lo que dificulta la comparación entre modelos. Este es  un problema que no tiene el `MAPE` ya que se da en porcentaje.\n",
    "\n",
    "- `MAPE` no se puede usar con valores reales cercanos a 0, o 0; de lo contrario, se producirá un error en la división.\n",
    "  `MAE`, por otro lado, se puede usar en esta situación ya que no contiene una división en su fórmula.\n",
    "\n",
    "**¿Por cuál nos decantamos?**\n",
    "\n",
    "En la mayoría de los casos, `MAPE` es mejor que `MAE`, esto se debe a dos razones: \n",
    "\n",
    "La primera es que el porcentaje hace que sea fácil de entender tanto para los desarrolladores como para los usuarios finales, y la segunda es que las puntuaciones de `MAPE` se pueden comparar entre diferentes modelos. Sin embargo, si los datos son cercanos a 0 ó 0 **(siendo esto algo que no se da en este conjunto de datos)**, entonces `MAE` sería la opción preferida.\n"
   ]
  },
  {
   "cell_type": "markdown",
   "metadata": {},
   "source": [
    "**Conclusión**:\n",
    "\n",
    "Como hemos comentado previamente está métrica mide el porcentaje de error que comete cada método.\n",
    "\n",
    "Normalmente un `MAPE` < 0.20 se considera un valor bastante bueno ya que el modelo se está equivocando en muy pocas estimaciones respecto del valor original.\n",
    "\n",
    "Veamos los modelos que tienen un `MAPE` por debajo del 20%:\n",
    "\n",
    "- `KNN`\n",
    "- `Random Forest`\n",
    "- `Bagging`\n",
    "- `Gradient Boost`\n",
    "- `XGBoost`\n",
    "- `Árboles de decisión`\n",
    "\n",
    "En el caso de:\n",
    "\n",
    "- `Regresión lineal`\n",
    "\n",
    "tiene un `MAPE` del 26%, que tampoco está muy alejado del límite de error aceptable por tanto consideramos que también es un modelo que predice suficientemente bien.\n"
   ]
  },
  {
   "cell_type": "markdown",
   "metadata": {},
   "source": [
    "### ¿Por qué no elegir otra?"
   ]
  },
  {
   "cell_type": "markdown",
   "metadata": {},
   "source": [
    "Otras opciones serían el `MSE` y el `MAX ERROR`:\n",
    "\n",
    "En el caso de `MSE`:\n",
    "\n",
    "El valor que se obtiene es una unidad de salida al cuadrado. \n",
    "Por ejemplo, la variable está en metros (m), la salida que obtenemos está en metros cuadrados.\n",
    "\n",
    "Si tiene valores atípicos en el conjunto de datos, le afcetan más y el `MSE` calculado es mayor. Entonces, en resumen la ventaja se puede convertir en desventaja cuando hay una mala predicción, la sensibilidad a los valores atípicos magnifica los errores elevados al elevarlos al cuadrado.\n",
    "\n",
    "El `RMSE` es la raíz del `MSE` pero tiene problemas parecidos: No es tan resistente a los valores atípicos en comparación con `MAE`. Además aumenta con un aumento en el tamaño de la muestra. Este es un problema cuando calculamos los resultados en diferentes muestras de prueba.\n",
    "\n",
    "En el caso de `MAX ERROR`:\n",
    "\n",
    "Es una métrica meramente informativa, nos enseña el mayor error que se produce pero no tenemos una referencia de cómo son el resto de errores, ni del ajuste del modelo.\n",
    "Por tanto podría ser útil como métrica complementaria pero no para basarse únicamente en ella."
   ]
  },
  {
   "cell_type": "markdown",
   "metadata": {},
   "source": [
    "### Orden de los métodos de mejor a peor según MAPE :"
   ]
  },
  {
   "cell_type": "markdown",
   "metadata": {},
   "source": [
    "1. `XGBoost` con MAPE = 0.1342\n",
    "2. `Random Forest` con MAPE = 0.1349\n",
    "3. `Bagging` con MAPE = 0.1421\n",
    "4. `KNN` con MAPE = 0.1482\n",
    "5. `Gradient Boost` con MAPE = 0.1557\n",
    "6. `Árbol de decisión` con MAPE = 0.1740\n",
    "7. `Regresión lineal` con MAPE = 0.2666"
   ]
  },
  {
   "cell_type": "markdown",
   "metadata": {},
   "source": [
    "Por tanto el modelo elegido será el `XGBoost`"
   ]
  },
  {
   "cell_type": "markdown",
   "metadata": {},
   "source": [
    "# 7. Importancia de las variables "
   ]
  },
  {
   "cell_type": "markdown",
   "metadata": {},
   "source": [
    "Haremos uso del modelo `XGBoost` ya que ha sido elegido cómo el modelo que mejor se ajusta a nuestro conjunto de datos."
   ]
  },
  {
   "cell_type": "markdown",
   "metadata": {},
   "source": [
    "Vemos primero en un array la importancia de las variables a la hora de predecir correctamente la variable objetivo:\n",
    "\n",
    "Esta 'importancia' nos da una calificación de cómo de útil han sido las variables en la construcción del modelo."
   ]
  },
  {
   "cell_type": "code",
   "execution_count": 91,
   "metadata": {},
   "outputs": [
    {
     "data": {
      "text/plain": [
       "array([0.10642099, 0.00865697, 0.24988262, 0.05744106, 0.47295853,\n",
       "       0.06819684, 0.03644305], dtype=float32)"
      ]
     },
     "execution_count": 91,
     "metadata": {},
     "output_type": "execute_result"
    }
   ],
   "source": [
    "xgb_model.feature_importances_"
   ]
  },
  {
   "cell_type": "markdown",
   "metadata": {},
   "source": [
    "Podemos observar como las variables `grade`,`waterfront` y `sqm_living` (en ese orden) han sido las más importantes para esta pediccióm."
   ]
  },
  {
   "cell_type": "markdown",
   "metadata": {},
   "source": [
    "Las mostramos en un gráfico de barras:"
   ]
  },
  {
   "cell_type": "code",
   "execution_count": 92,
   "metadata": {},
   "outputs": [
    {
     "data": {
      "image/png": "[encoded data removed]",
      "text/plain": [
       "<Figure size 432x288 with 1 Axes>"
      ]
     },
     "metadata": {},
     "output_type": "display_data"
    }
   ],
   "source": [
    "plt.bar(range(len(xgb_model.feature_importances_)), xgb_model.feature_importances_)\n",
    "plt.show()"
   ]
  },
  {
   "cell_type": "markdown",
   "metadata": {},
   "source": [
    "Teniendo en cuenta esto, si volviesemos a llevar a cabo la selección de variables, no habríamos tenido en cuenta la variable `floors` que no aporta prácticamente nada a mejorar la predicción."
   ]
  }
 ],
 "metadata": {
  "kernelspec": {
   "display_name": "Python 3",
   "language": "python",
   "name": "python3"
  },
  "language_info": {
   "codemirror_mode": {
    "name": "ipython",
    "version": 3
   },
   "file_extension": ".py",
   "mimetype": "text/x-python",
   "name": "python",
   "nbconvert_exporter": "python",
   "pygments_lexer": "ipython3",
   "version": "3.8.3"
  }
 },
 "nbformat": 4,
 "nbformat_minor": 4
}
